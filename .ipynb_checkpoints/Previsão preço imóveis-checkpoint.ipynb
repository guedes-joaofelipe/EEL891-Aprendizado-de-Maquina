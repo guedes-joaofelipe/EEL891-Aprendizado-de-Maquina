{
 "cells": [
  {
   "cell_type": "markdown",
   "metadata": {},
   "source": [
    "<h1>Relatório da Disciplina EEL891 - Introdução ao Aprendizado de Máquina</h1>\n",
    "Aluno: João Felipe Guedes da Silva\n",
    "Período: 2018.2"
   ]
  },
  {
   "cell_type": "markdown",
   "metadata": {},
   "source": [
    "## Imports"
   ]
  },
  {
   "cell_type": "code",
   "execution_count": 51,
   "metadata": {},
   "outputs": [],
   "source": [
    "import pandas as pd\n",
    "import os\n",
    "import seaborn as sns\n",
    "import matplotlib.pyplot as plt"
   ]
  },
  {
   "cell_type": "markdown",
   "metadata": {},
   "source": [
    "## Carregando o dataset"
   ]
  },
  {
   "cell_type": "code",
   "execution_count": 42,
   "metadata": {},
   "outputs": [],
   "source": [
    "dataset_dir = './Dataset/'\n",
    "train_set = pd.read_csv(dataset_dir + 'train.csv')\n",
    "test_set = pd.read_csv(dataset_dir + 'test.csv')"
   ]
  },
  {
   "cell_type": "code",
   "execution_count": 43,
   "metadata": {},
   "outputs": [
    {
     "name": "stdout",
     "output_type": "stream",
     "text": [
      "<class 'pandas.core.frame.DataFrame'>\n",
      "RangeIndex: 4683 entries, 0 to 4682\n",
      "Data columns (total 21 columns):\n",
      "Id                4683 non-null int64\n",
      "tipo              4683 non-null object\n",
      "bairro            4683 non-null object\n",
      "tipo_vendedor     4683 non-null object\n",
      "quartos           4683 non-null int64\n",
      "suites            4683 non-null int64\n",
      "vagas             4683 non-null int64\n",
      "area_util         4683 non-null int64\n",
      "area_extra        4683 non-null int64\n",
      "diferenciais      4683 non-null object\n",
      "churrasqueira     4683 non-null int64\n",
      "estacionamento    4683 non-null int64\n",
      "piscina           4683 non-null int64\n",
      "playground        4683 non-null int64\n",
      "quadra            4683 non-null int64\n",
      "s_festas          4683 non-null int64\n",
      "s_jogos           4683 non-null int64\n",
      "s_ginastica       4683 non-null int64\n",
      "sauna             4683 non-null int64\n",
      "vista_mar         4683 non-null int64\n",
      "preco             4683 non-null float64\n",
      "dtypes: float64(1), int64(16), object(4)\n",
      "memory usage: 768.4+ KB\n"
     ]
    }
   ],
   "source": [
    "train_set.info()"
   ]
  },
  {
   "cell_type": "code",
   "execution_count": 44,
   "metadata": {},
   "outputs": [
    {
     "name": "stdout",
     "output_type": "stream",
     "text": [
      "<class 'pandas.core.frame.DataFrame'>\n",
      "RangeIndex: 2000 entries, 0 to 1999\n",
      "Data columns (total 20 columns):\n",
      "Id                2000 non-null int64\n",
      "tipo              2000 non-null object\n",
      "bairro            2000 non-null object\n",
      "tipo_vendedor     2000 non-null object\n",
      "quartos           2000 non-null int64\n",
      "suites            2000 non-null int64\n",
      "vagas             2000 non-null int64\n",
      "area_util         2000 non-null int64\n",
      "area_extra        2000 non-null int64\n",
      "diferenciais      2000 non-null object\n",
      "churrasqueira     2000 non-null int64\n",
      "estacionamento    2000 non-null int64\n",
      "piscina           2000 non-null int64\n",
      "playground        2000 non-null int64\n",
      "quadra            2000 non-null int64\n",
      "s_festas          2000 non-null int64\n",
      "s_jogos           2000 non-null int64\n",
      "s_ginastica       2000 non-null int64\n",
      "sauna             2000 non-null int64\n",
      "vista_mar         2000 non-null int64\n",
      "dtypes: int64(16), object(4)\n",
      "memory usage: 312.6+ KB\n"
     ]
    }
   ],
   "source": [
    "test_set.info()"
   ]
  },
  {
   "cell_type": "markdown",
   "metadata": {},
   "source": [
    "## Pre-processamento\n",
    "\n",
    "O dataset não possui valores faltantes e, portanto, tal etapa não será realizada. \n",
    "\n",
    "Ao todo, o dataset possui 21 variáveis, das quais podem ser separadas em:\n",
    "- 4 Variáveis de entrada categóricas: tipo, bairro, tipo_vendedor, diferenciais\n",
    "- 5 Variáveis de entrada numéricas não-binárias: quartos, suites, vagas, area_util, area_extra\n",
    "- 10 Variáveis de entrada numéricas binárias: churrasqueira, estacionamento, piscina, playground, quadra, s_festas, s_jogos, s_ginastica, sauna, vista_mar\n",
    "- 1 Variável de saída numérica: preco\n",
    "\n",
    "A variável **Id** não possui valor quantitativo para o problema por se tratar de um identificador e, portanto, será removido do conjunto. \n",
    "\n",
    "O pré-processamento de cada um dos conjuntos de variáveis será realizado separadamente.\n"
   ]
  },
  {
   "cell_type": "code",
   "execution_count": 45,
   "metadata": {},
   "outputs": [],
   "source": [
    "train_set.drop(columns=['Id'], axis=1, inplace=True)\n",
    "test_set.drop(columns=['Id'], axis=1, inplace=True)"
   ]
  },
  {
   "cell_type": "markdown",
   "metadata": {},
   "source": [
    "### Transformação de variável categórica em numérica"
   ]
  },
  {
   "cell_type": "markdown",
   "metadata": {},
   "source": [
    "### 1) Tipo\n",
    "Como a quantidade de ocorrências dos tipos Apartamento e Casa são muito maiores do que Quitinete e Loft, esta variável será transformada em uma variável binária onde **1** é o tipo apartamento e **0** é o tipo não-apartamento (Casa, Quitinete ou Loft)"
   ]
  },
  {
   "cell_type": "code",
   "execution_count": 46,
   "metadata": {},
   "outputs": [
    {
     "data": {
      "image/png": "[encoded data removed]",
      "text/plain": [
       "<matplotlib.figure.Figure at 0x22468477048>"
      ]
     },
     "metadata": {},
     "output_type": "display_data"
    }
   ],
   "source": [
    "sns.countplot(x='tipo', data=train_set);\n",
    "#plt.xticks(rotation=45);"
   ]
  },
  {
   "cell_type": "code",
   "execution_count": 47,
   "metadata": {},
   "outputs": [],
   "source": [
    "replace_dict = {'Casa':0, 'Quitinete':0, 'Loft':0, 'Apartamento': 1}\n",
    "\n",
    "train_set['tipo'] = train_set['tipo'].replace(replace_dict)\n",
    "test_set['tipo'] = test_set['tipo'].replace(replace_dict)"
   ]
  },
  {
   "cell_type": "code",
   "execution_count": 48,
   "metadata": {},
   "outputs": [
    {
     "data": {
      "image/png": "[encoded data removed]",
      "text/plain": [
       "<matplotlib.figure.Figure at 0x22462f69d68>"
      ]
     },
     "metadata": {},
     "output_type": "display_data"
    }
   ],
   "source": [
    "sns.countplot(x='tipo', data=train_set);"
   ]
  },
  {
   "cell_type": "markdown",
   "metadata": {},
   "source": [
    "### 2) Bairro\n",
    "\n",
    "Pela do bairro, podemos ver que temos 66 bairros diferentes sendo que o bairro mais frequente é Boa Viagem (1599 ocorrências). Como esta variável deve ser binarizada, ela sozinha geraria 66 variáveis a mais para o modelo, todas informando apenas qual bairro o imóvel se encontra. \n",
    "\n",
    "Para reduzir o número de variáveis, traçaremos um threshold definindo os bairros que não possuem quantidade expressiva de ocorrências. "
   ]
  },
  {
   "cell_type": "code",
   "execution_count": 88,
   "metadata": {},
   "outputs": [
    {
     "data": {
      "text/plain": [
       "(array([ 0,  1,  2,  3,  4,  5,  6,  7,  8,  9, 10, 11, 12, 13, 14, 15, 16,\n",
       "        17, 18, 19, 20, 21, 22, 23, 24, 25, 26, 27, 28, 29, 30, 31, 32, 33,\n",
       "        34, 35, 36, 37, 38, 39, 40, 41, 42, 43, 44, 45, 46, 47, 48, 49, 50,\n",
       "        51, 52, 53, 54, 55, 56, 57, 58, 59, 60, 61, 62, 63, 64, 65]),\n",
       " <a list of 66 Text xticklabel objects>)"
      ]
     },
     "execution_count": 88,
     "metadata": {},
     "output_type": "execute_result"
    },
    {
     "data": {
      "image/png": "[encoded data removed]",
      "text/plain": [
       "<matplotlib.figure.Figure at 0x2246a9d2ef0>"
      ]
     },
     "metadata": {},
     "output_type": "display_data"
    }
   ],
   "source": [
    "train_set['bairro'].value_counts().plot(kind=\"bar\")\n",
    "plt.xticks(rotation=45)"
   ]
  },
  {
   "cell_type": "code",
   "execution_count": 92,
   "metadata": {},
   "outputs": [],
   "source": [
    "contagem_bairros = train_set['bairro'].value_counts()\n"
   ]
  },
  {
   "cell_type": "code",
   "execution_count": 90,
   "metadata": {},
   "outputs": [
    {
     "data": {
      "text/plain": [
       "Boa Viagem         1599\n",
       "Madalena            327\n",
       "Torre               240\n",
       "Casa Amarela        225\n",
       "Espinheiro          208\n",
       "Rosarinho           202\n",
       "Casa Forte          199\n",
       "Encruzilhada        163\n",
       "Parnamirim          123\n",
       "Gracas              115\n",
       "Tamarineira          87\n",
       "Pina                 81\n",
       "Boa Vista            80\n",
       "Aflitos              77\n",
       "Iputinga             76\n",
       "Cordeiro             76\n",
       "Jaqueira             75\n",
       "Imbiribeira          60\n",
       "Campo Grande         58\n",
       "Apipucos             56\n",
       "Poco da Panela       52\n",
       "Setubal              51\n",
       "Varzea               48\n",
       "Ilha do Retiro       42\n",
       "Sto Amaro            39\n",
       "Prado                35\n",
       "Torreao              34\n",
       "Caxanga              29\n",
       "Derby                19\n",
       "Tejipio              17\n",
       "                   ... \n",
       "Areias                9\n",
       "Jd S Paulo            9\n",
       "Ilha do Leite         8\n",
       "Recife                8\n",
       "Bongi                 7\n",
       "Ipsep                 6\n",
       "Macaxeira             5\n",
       "Paissandu             5\n",
       "Beira Rio             5\n",
       "Barro                 5\n",
       "Poco                  4\n",
       "S Jose                4\n",
       "Soledade              4\n",
       "Hipodromo             4\n",
       "Santana               4\n",
       "Benfica               3\n",
       "Cajueiro              3\n",
       "Afogados              3\n",
       "Dois Irmaos           2\n",
       "Lagoa do Araca        2\n",
       "Estancia              2\n",
       "Guabiraba             2\n",
       "Sancho                2\n",
       "Agua Fria             2\n",
       "Centro                1\n",
       "Coelhos               1\n",
       "Zumbi                 1\n",
       "Cohab                 1\n",
       "Sto Antonio           1\n",
       "Ponto de Parada       1\n",
       "Name: bairro, Length: 66, dtype: int64"
      ]
     },
     "execution_count": 90,
     "metadata": {},
     "output_type": "execute_result"
    }
   ],
   "source": []
  },
  {
   "cell_type": "code",
   "execution_count": 60,
   "metadata": {},
   "outputs": [
    {
     "data": {
      "text/plain": [
       "Index(['Boa Viagem', 'Madalena', 'Torre', 'Casa Amarela', 'Espinheiro',\n",
       "       'Rosarinho', 'Casa Forte', 'Encruzilhada', 'Parnamirim', 'Gracas',\n",
       "       'Tamarineira', 'Pina', 'Boa Vista', 'Aflitos', 'Iputinga', 'Cordeiro',\n",
       "       'Jaqueira', 'Imbiribeira', 'Campo Grande', 'Apipucos', 'Poco da Panela',\n",
       "       'Setubal', 'Varzea', 'Ilha do Retiro', 'Sto Amaro', 'Prado', 'Torreao',\n",
       "       'Caxanga', 'Derby', 'Tejipio', 'Monteiro', 'Cid Universitaria',\n",
       "       'Arruda', 'San Martin', 'Piedade', 'Engenho do Meio', 'Areias',\n",
       "       'Jd S Paulo', 'Ilha do Leite', 'Recife', 'Bongi', 'Ipsep', 'Macaxeira',\n",
       "       'Paissandu', 'Beira Rio', 'Barro', 'Poco', 'S Jose', 'Soledade',\n",
       "       'Hipodromo', 'Santana', 'Benfica', 'Cajueiro', 'Afogados',\n",
       "       'Dois Irmaos', 'Lagoa do Araca', 'Estancia', 'Guabiraba', 'Sancho',\n",
       "       'Agua Fria', 'Centro', 'Coelhos', 'Zumbi', 'Cohab', 'Sto Antonio',\n",
       "       'Ponto de Parada'],\n",
       "      dtype='object')"
      ]
     },
     "execution_count": 60,
     "metadata": {},
     "output_type": "execute_result"
    }
   ],
   "source": [
    "x.index"
   ]
  },
  {
   "cell_type": "code",
   "execution_count": 71,
   "metadata": {},
   "outputs": [],
   "source": [
    "x1 = x.drop(index=['Boa Viagem'])"
   ]
  },
  {
   "cell_type": "code",
   "execution_count": 74,
   "metadata": {},
   "outputs": [],
   "source": [
    "import numpy as np"
   ]
  },
  {
   "cell_type": "code",
   "execution_count": 75,
   "metadata": {},
   "outputs": [
    {
     "data": {
      "text/plain": [
       "69.89399242792469"
      ]
     },
     "execution_count": 75,
     "metadata": {},
     "output_type": "execute_result"
    }
   ],
   "source": [
    "np.std(x1.values)"
   ]
  },
  {
   "cell_type": "code",
   "execution_count": 76,
   "metadata": {},
   "outputs": [
    {
     "data": {
      "text/plain": [
       "47.44615384615385"
      ]
     },
     "execution_count": 76,
     "metadata": {},
     "output_type": "execute_result"
    }
   ],
   "source": [
    "np.mean(x1.values)"
   ]
  },
  {
   "cell_type": "code",
   "execution_count": 78,
   "metadata": {},
   "outputs": [
    {
     "data": {
      "text/plain": [
       "<matplotlib.axes._subplots.AxesSubplot at 0x2246a927160>"
      ]
     },
     "execution_count": 78,
     "metadata": {},
     "output_type": "execute_result"
    },
    {
     "data": {
      "image/png": "[encoded data removed]",
      "text/plain": [
       "<matplotlib.figure.Figure at 0x22469b5ef98>"
      ]
     },
     "metadata": {},
     "output_type": "display_data"
    }
   ],
   "source": [
    "x1.plot()"
   ]
  },
  {
   "cell_type": "code",
   "execution_count": 66,
   "metadata": {},
   "outputs": [
    {
     "data": {
      "text/plain": [
       "array([2.92870544, 2.43146417, 2.16204986, 1.95859473, 1.80184686,\n",
       "       1.67190289, 1.561     , 1.48055643, 1.42513694, 1.37694796,\n",
       "       1.34260321, 1.31213225, 1.28336531, 1.2568438 , 1.23172015,\n",
       "       1.20758123, 1.18466987, 1.16695739, 1.15033161, 1.13472256,\n",
       "       1.12060302, 1.1070922 , 1.09467041, 1.08402778, 1.07432897,\n",
       "       1.06577151, 1.05758808, 1.05070675, 1.04624665, 1.042288  ,\n",
       "       1.0383592 , 1.03491713, 1.03217985, 1.02968338, 1.02719895,\n",
       "       1.02495076, 1.02293578, 1.02092871, 1.01915125, 1.01737997,\n",
       "       1.01583514, 1.01451473, 1.01341701, 1.01232166, 1.01122868,\n",
       "       1.01013805, 1.00926724, 1.00839793, 1.00753012, 1.0066638 ,\n",
       "       1.00579897, 1.00515132, 1.0045045 , 1.00385852, 1.00342833,\n",
       "       1.0029985 , 1.00256904, 1.00213995, 1.00171123, 1.00128287,\n",
       "       1.00106883, 1.00085488, 1.00064103, 1.00042726, 1.00021358,\n",
       "       1.        ])"
      ]
     },
     "execution_count": 66,
     "metadata": {},
     "output_type": "execute_result"
    }
   ],
   "source": [
    "x.values.sum()/x.values.cumsum()"
   ]
  },
  {
   "cell_type": "code",
   "execution_count": 80,
   "metadata": {},
   "outputs": [
    {
     "data": {
      "text/plain": [
       "[<matplotlib.lines.Line2D at 0x2246a96fb38>]"
      ]
     },
     "execution_count": 80,
     "metadata": {},
     "output_type": "execute_result"
    },
    {
     "data": {
      "image/png": "[encoded data removed]",
      "text/plain": [
       "<matplotlib.figure.Figure at 0x2246a1d9080>"
      ]
     },
     "metadata": {},
     "output_type": "display_data"
    }
   ],
   "source": [
    "plt.plot(1-x1.values.cumsum()/x1.values.sum())"
   ]
  },
  {
   "cell_type": "code",
   "execution_count": 82,
   "metadata": {},
   "outputs": [],
   "source": [
    "perc_total_bairros = 1-x1.values.cumsum()/x1.values.sum()"
   ]
  },
  {
   "cell_type": "code",
   "execution_count": 87,
   "metadata": {},
   "outputs": [
    {
     "data": {
      "text/plain": [
       "array([[ 0],\n",
       "       [ 1],\n",
       "       [ 2],\n",
       "       [ 3],\n",
       "       [ 4],\n",
       "       [ 5],\n",
       "       [ 6],\n",
       "       [ 7],\n",
       "       [ 8],\n",
       "       [ 9],\n",
       "       [10],\n",
       "       [11],\n",
       "       [12],\n",
       "       [13],\n",
       "       [14],\n",
       "       [15],\n",
       "       [16]], dtype=int64)"
      ]
     },
     "execution_count": 87,
     "metadata": {},
     "output_type": "execute_result"
    }
   ],
   "source": [
    "np.argwhere(perc_total_bairros >= bairro_outros_thr)"
   ]
  },
  {
   "cell_type": "code",
   "execution_count": 81,
   "metadata": {},
   "outputs": [],
   "source": [
    "bairro_outros_thr = 0.2"
   ]
  },
  {
   "cell_type": "code",
   "execution_count": null,
   "metadata": {},
   "outputs": [],
   "source": []
  },
  {
   "cell_type": "code",
   "execution_count": 31,
   "metadata": {},
   "outputs": [
    {
     "data": {
      "text/plain": [
       "count            4683\n",
       "unique              4\n",
       "top       Apartamento\n",
       "freq             4501\n",
       "Name: tipo, dtype: object"
      ]
     },
     "execution_count": 31,
     "metadata": {},
     "output_type": "execute_result"
    }
   ],
   "source": [
    "train_set['tipo'].describe()"
   ]
  },
  {
   "cell_type": "code",
   "execution_count": 20,
   "metadata": {},
   "outputs": [
    {
     "data": {
      "text/plain": [
       "0              Casa\n",
       "1       Apartamento\n",
       "2       Apartamento\n",
       "3       Apartamento\n",
       "4       Apartamento\n",
       "5       Apartamento\n",
       "6       Apartamento\n",
       "7       Apartamento\n",
       "8       Apartamento\n",
       "9       Apartamento\n",
       "10      Apartamento\n",
       "11      Apartamento\n",
       "12      Apartamento\n",
       "13      Apartamento\n",
       "14      Apartamento\n",
       "15      Apartamento\n",
       "16      Apartamento\n",
       "17      Apartamento\n",
       "18      Apartamento\n",
       "19      Apartamento\n",
       "20      Apartamento\n",
       "21      Apartamento\n",
       "22      Apartamento\n",
       "23      Apartamento\n",
       "24      Apartamento\n",
       "25      Apartamento\n",
       "26      Apartamento\n",
       "27      Apartamento\n",
       "28      Apartamento\n",
       "29      Apartamento\n",
       "           ...     \n",
       "4653    Apartamento\n",
       "4654    Apartamento\n",
       "4655    Apartamento\n",
       "4656    Apartamento\n",
       "4657    Apartamento\n",
       "4658    Apartamento\n",
       "4659    Apartamento\n",
       "4660    Apartamento\n",
       "4661    Apartamento\n",
       "4662    Apartamento\n",
       "4663    Apartamento\n",
       "4664    Apartamento\n",
       "4665           Casa\n",
       "4666    Apartamento\n",
       "4667    Apartamento\n",
       "4668    Apartamento\n",
       "4669    Apartamento\n",
       "4670    Apartamento\n",
       "4671    Apartamento\n",
       "4672    Apartamento\n",
       "4673    Apartamento\n",
       "4674    Apartamento\n",
       "4675    Apartamento\n",
       "4676    Apartamento\n",
       "4677    Apartamento\n",
       "4678    Apartamento\n",
       "4679    Apartamento\n",
       "4680    Apartamento\n",
       "4681    Apartamento\n",
       "4682    Apartamento\n",
       "Name: tipo, Length: 4683, dtype: object"
      ]
     },
     "execution_count": 20,
     "metadata": {},
     "output_type": "execute_result"
    }
   ],
   "source": [
    "train_set['tipo']"
   ]
  },
  {
   "cell_type": "code",
   "execution_count": 34,
   "metadata": {},
   "outputs": [
    {
     "data": {
      "text/html": [
       "<div>\n",
       "<style scoped>\n",
       "    .dataframe tbody tr th:only-of-type {\n",
       "        vertical-align: middle;\n",
       "    }\n",
       "\n",
       "    .dataframe tbody tr th {\n",
       "        vertical-align: top;\n",
       "    }\n",
       "\n",
       "    .dataframe thead th {\n",
       "        text-align: right;\n",
       "    }\n",
       "</style>\n",
       "<table border=\"1\" class=\"dataframe\">\n",
       "  <thead>\n",
       "    <tr style=\"text-align: right;\">\n",
       "      <th></th>\n",
       "      <th>quartos</th>\n",
       "      <th>suites</th>\n",
       "      <th>vagas</th>\n",
       "      <th>area_util</th>\n",
       "      <th>area_extra</th>\n",
       "      <th>churrasqueira</th>\n",
       "      <th>estacionamento</th>\n",
       "      <th>piscina</th>\n",
       "      <th>playground</th>\n",
       "      <th>quadra</th>\n",
       "      <th>s_festas</th>\n",
       "      <th>s_jogos</th>\n",
       "      <th>s_ginastica</th>\n",
       "      <th>sauna</th>\n",
       "      <th>vista_mar</th>\n",
       "      <th>preco</th>\n",
       "    </tr>\n",
       "  </thead>\n",
       "  <tbody>\n",
       "    <tr>\n",
       "      <th>count</th>\n",
       "      <td>4683.000000</td>\n",
       "      <td>4683.000000</td>\n",
       "      <td>4683.000000</td>\n",
       "      <td>4683.000000</td>\n",
       "      <td>4683.000000</td>\n",
       "      <td>4683.000000</td>\n",
       "      <td>4683.000000</td>\n",
       "      <td>4683.000000</td>\n",
       "      <td>4683.000000</td>\n",
       "      <td>4683.000000</td>\n",
       "      <td>4683.000000</td>\n",
       "      <td>4683.000000</td>\n",
       "      <td>4683.000000</td>\n",
       "      <td>4683.000000</td>\n",
       "      <td>4683.000000</td>\n",
       "      <td>4.683000e+03</td>\n",
       "    </tr>\n",
       "    <tr>\n",
       "      <th>mean</th>\n",
       "      <td>3.043562</td>\n",
       "      <td>1.434337</td>\n",
       "      <td>1.708093</td>\n",
       "      <td>124.158018</td>\n",
       "      <td>13.293188</td>\n",
       "      <td>0.316891</td>\n",
       "      <td>0.030750</td>\n",
       "      <td>0.555627</td>\n",
       "      <td>0.157378</td>\n",
       "      <td>0.039078</td>\n",
       "      <td>0.138159</td>\n",
       "      <td>0.006833</td>\n",
       "      <td>0.013666</td>\n",
       "      <td>0.096306</td>\n",
       "      <td>0.027333</td>\n",
       "      <td>9.277053e+05</td>\n",
       "    </tr>\n",
       "    <tr>\n",
       "      <th>std</th>\n",
       "      <td>0.873590</td>\n",
       "      <td>1.102457</td>\n",
       "      <td>1.210975</td>\n",
       "      <td>107.365110</td>\n",
       "      <td>266.803756</td>\n",
       "      <td>0.465314</td>\n",
       "      <td>0.172657</td>\n",
       "      <td>0.496949</td>\n",
       "      <td>0.364195</td>\n",
       "      <td>0.193800</td>\n",
       "      <td>0.345104</td>\n",
       "      <td>0.082389</td>\n",
       "      <td>0.116114</td>\n",
       "      <td>0.295042</td>\n",
       "      <td>0.163069</td>\n",
       "      <td>1.050607e+07</td>\n",
       "    </tr>\n",
       "    <tr>\n",
       "      <th>min</th>\n",
       "      <td>1.000000</td>\n",
       "      <td>0.000000</td>\n",
       "      <td>0.000000</td>\n",
       "      <td>21.000000</td>\n",
       "      <td>0.000000</td>\n",
       "      <td>0.000000</td>\n",
       "      <td>0.000000</td>\n",
       "      <td>0.000000</td>\n",
       "      <td>0.000000</td>\n",
       "      <td>0.000000</td>\n",
       "      <td>0.000000</td>\n",
       "      <td>0.000000</td>\n",
       "      <td>0.000000</td>\n",
       "      <td>0.000000</td>\n",
       "      <td>0.000000</td>\n",
       "      <td>7.500000e+02</td>\n",
       "    </tr>\n",
       "    <tr>\n",
       "      <th>25%</th>\n",
       "      <td>3.000000</td>\n",
       "      <td>1.000000</td>\n",
       "      <td>1.000000</td>\n",
       "      <td>68.000000</td>\n",
       "      <td>0.000000</td>\n",
       "      <td>0.000000</td>\n",
       "      <td>0.000000</td>\n",
       "      <td>0.000000</td>\n",
       "      <td>0.000000</td>\n",
       "      <td>0.000000</td>\n",
       "      <td>0.000000</td>\n",
       "      <td>0.000000</td>\n",
       "      <td>0.000000</td>\n",
       "      <td>0.000000</td>\n",
       "      <td>0.000000</td>\n",
       "      <td>3.550000e+05</td>\n",
       "    </tr>\n",
       "    <tr>\n",
       "      <th>50%</th>\n",
       "      <td>3.000000</td>\n",
       "      <td>1.000000</td>\n",
       "      <td>2.000000</td>\n",
       "      <td>96.000000</td>\n",
       "      <td>0.000000</td>\n",
       "      <td>0.000000</td>\n",
       "      <td>0.000000</td>\n",
       "      <td>1.000000</td>\n",
       "      <td>0.000000</td>\n",
       "      <td>0.000000</td>\n",
       "      <td>0.000000</td>\n",
       "      <td>0.000000</td>\n",
       "      <td>0.000000</td>\n",
       "      <td>0.000000</td>\n",
       "      <td>0.000000</td>\n",
       "      <td>5.150000e+05</td>\n",
       "    </tr>\n",
       "    <tr>\n",
       "      <th>75%</th>\n",
       "      <td>4.000000</td>\n",
       "      <td>2.000000</td>\n",
       "      <td>2.000000</td>\n",
       "      <td>149.000000</td>\n",
       "      <td>0.000000</td>\n",
       "      <td>1.000000</td>\n",
       "      <td>0.000000</td>\n",
       "      <td>1.000000</td>\n",
       "      <td>0.000000</td>\n",
       "      <td>0.000000</td>\n",
       "      <td>0.000000</td>\n",
       "      <td>0.000000</td>\n",
       "      <td>0.000000</td>\n",
       "      <td>0.000000</td>\n",
       "      <td>0.000000</td>\n",
       "      <td>8.300000e+05</td>\n",
       "    </tr>\n",
       "    <tr>\n",
       "      <th>max</th>\n",
       "      <td>9.000000</td>\n",
       "      <td>6.000000</td>\n",
       "      <td>30.000000</td>\n",
       "      <td>2045.000000</td>\n",
       "      <td>17450.000000</td>\n",
       "      <td>1.000000</td>\n",
       "      <td>1.000000</td>\n",
       "      <td>1.000000</td>\n",
       "      <td>1.000000</td>\n",
       "      <td>1.000000</td>\n",
       "      <td>1.000000</td>\n",
       "      <td>1.000000</td>\n",
       "      <td>1.000000</td>\n",
       "      <td>1.000000</td>\n",
       "      <td>1.000000</td>\n",
       "      <td>6.300000e+08</td>\n",
       "    </tr>\n",
       "  </tbody>\n",
       "</table>\n",
       "</div>"
      ],
      "text/plain": [
       "           quartos       suites        vagas    area_util    area_extra  \\\n",
       "count  4683.000000  4683.000000  4683.000000  4683.000000   4683.000000   \n",
       "mean      3.043562     1.434337     1.708093   124.158018     13.293188   \n",
       "std       0.873590     1.102457     1.210975   107.365110    266.803756   \n",
       "min       1.000000     0.000000     0.000000    21.000000      0.000000   \n",
       "25%       3.000000     1.000000     1.000000    68.000000      0.000000   \n",
       "50%       3.000000     1.000000     2.000000    96.000000      0.000000   \n",
       "75%       4.000000     2.000000     2.000000   149.000000      0.000000   \n",
       "max       9.000000     6.000000    30.000000  2045.000000  17450.000000   \n",
       "\n",
       "       churrasqueira  estacionamento      piscina   playground       quadra  \\\n",
       "count    4683.000000     4683.000000  4683.000000  4683.000000  4683.000000   \n",
       "mean        0.316891        0.030750     0.555627     0.157378     0.039078   \n",
       "std         0.465314        0.172657     0.496949     0.364195     0.193800   \n",
       "min         0.000000        0.000000     0.000000     0.000000     0.000000   \n",
       "25%         0.000000        0.000000     0.000000     0.000000     0.000000   \n",
       "50%         0.000000        0.000000     1.000000     0.000000     0.000000   \n",
       "75%         1.000000        0.000000     1.000000     0.000000     0.000000   \n",
       "max         1.000000        1.000000     1.000000     1.000000     1.000000   \n",
       "\n",
       "          s_festas      s_jogos  s_ginastica        sauna    vista_mar  \\\n",
       "count  4683.000000  4683.000000  4683.000000  4683.000000  4683.000000   \n",
       "mean      0.138159     0.006833     0.013666     0.096306     0.027333   \n",
       "std       0.345104     0.082389     0.116114     0.295042     0.163069   \n",
       "min       0.000000     0.000000     0.000000     0.000000     0.000000   \n",
       "25%       0.000000     0.000000     0.000000     0.000000     0.000000   \n",
       "50%       0.000000     0.000000     0.000000     0.000000     0.000000   \n",
       "75%       0.000000     0.000000     0.000000     0.000000     0.000000   \n",
       "max       1.000000     1.000000     1.000000     1.000000     1.000000   \n",
       "\n",
       "              preco  \n",
       "count  4.683000e+03  \n",
       "mean   9.277053e+05  \n",
       "std    1.050607e+07  \n",
       "min    7.500000e+02  \n",
       "25%    3.550000e+05  \n",
       "50%    5.150000e+05  \n",
       "75%    8.300000e+05  \n",
       "max    6.300000e+08  "
      ]
     },
     "execution_count": 34,
     "metadata": {},
     "output_type": "execute_result"
    }
   ],
   "source": [
    "train_set.describe()"
   ]
  }
 ],
 "metadata": {
  "kernelspec": {
   "display_name": "Python 3",
   "language": "python",
   "name": "python3"
  },
  "language_info": {
   "codemirror_mode": {
    "name": "ipython",
    "version": 3
   },
   "file_extension": ".py",
   "mimetype": "text/x-python",
   "name": "python",
   "nbconvert_exporter": "python",
   "pygments_lexer": "ipython3",
   "version": "3.6.4"
  }
 },
 "nbformat": 4,
 "nbformat_minor": 2
}
