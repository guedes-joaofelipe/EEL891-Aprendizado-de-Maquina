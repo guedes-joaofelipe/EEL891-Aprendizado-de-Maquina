{
 "cells": [
  {
   "cell_type": "markdown",
   "metadata": {},
   "source": [
    "<h1>Relatório da Disciplina EEL891 - Introdução ao Aprendizado de Máquina</h1>\n",
    "Aluno: João Felipe Guedes da Silva\n",
    "Período: 2018.2\n",
    "ID Kaggle: 1205540 \n",
    "DRE: 113079506\n",
    "\n",
    "Este relatório tem como objetivo apresentar o estudo de aprendizado de máquina aplicado à previsão do preço de imóveis. O dataset em questão foi disponibilizado em https://www.kaggle.com/c/eel891-2018-2-t1. \n",
    "\n",
    "O relatório é composto das seguintes seções:\n",
    "1. **Importação de bibliotecas**\n",
    "<br>Salvo as bibliotecas utilizadas para importação dos modelos, todas as bibliotecas utilizadas neste relatório são importadas na seção 1.     \n",
    "2. **Carregamento de dataset**\n",
    "<br>O dataset disponibilizado no link <a href=\"https://www.kaggle.com/c/eel891-2018-2-t1\">acima</a> foi baixado para a pasta /Dataset/. Ele é composto por um arquivo train.csv para o conjunto de treino, contendo 20 <i>features</i> dos imóveis e 1 <i>target</i> com o preço do mesmo, e outro test.csv contendo apenas as <i>features</i> para o conjunto de testes. \n",
    "3. **Pre-processamento**\n",
    "<br>A etapa de pré-processamento é realizada separadamente para cada tipo de <i>feature</i> encontrada no dataset. Dentre os tipos, lista-se: <br>\n",
    "    - **Variáveis categóricas**: em geral, algumas categorias foram agrupadas por não apresentarem uma quantidade significante de amostras. Das categorias que foram mantidas, todas foram codificadas utilizando a notação maximamente esparsa através da função <i>get_dummies</i> da biblioteca <i>pandas</i>. \n",
    "    <br>Aqui nota-se a análise diferenciada para a variável **bairros**, a qual não só possui muitas categorias, como também apresentou categorias existentes no conjunto de teste que não estavam no conjunto de treinamento (e vice-versa). Para reduzir o impacto do elevado número de categorias, os bairros foram clusterizados utilizando o algoritmo k-means e a variável de saída, a fim de clusterizar bairros de imóveis com preços similares.\n",
    "    \n",
    "    - **Variáveis numéricas não-binárias**: em geral, essas variáveis foram normalizadas para apresentarem distribuição mais próxima possível de uma gaussiana. A análise dessa proximidade foi feita através da curtose da distribuição de cada variável antes e depois da normalização. \n",
    "    - **Variáveis numéricas binárias**: não encontrou-se necessidade de tratar tais variáveis.\n",
    "    \n",
    "    <br>Ambas as variáveis numéricas foram tratadas para conterem a menor quantidade possível de <i>outliers</i>. Para tal, utilizou-se <i>thresholds</i> em cada uma delas os quais foram definidos empiricamente. \n",
    "    \n",
    "     <br>Após todo o processamento feito em cima dos tipos de variáveis, uma análise da correlação entre as mesmas foi realizada a fim de eliminar variáveis de entrada muito correlacionadas entre si. Dentre essas, manteve-se apenas a variável com maior correlação com a saída. \n",
    "  \n",
    "4. **Treinamento dos modelos**\n",
    "    <br>Os modelos utilizados como base para este estudo foram os modelos lineares de regressão encontrados na biblioteca sklearn, os quais podem ser acessados <a href=\"https://scikit-learn.org/stable/modules/classes.html#module-sklearn.linear_model\">aqui</a>. Os valores <i>default</i> dos parâmetros de cada modelo foram utilizados. \n",
    "\n",
    "    Para avaliação dos modelos, utilizou-se o <i>Root Mean Squared Percentage Error</i> seguindo a métrica de avaliação da competição proposta na disciplina. \n",
    "    \n",
    "    Feito o treinamento individual dos modelos, a saída prevista de cada um deles foi utilizada para gerar a entrada de um <i>ensemble</i> dos mesmos. A escolha do modelo <i>ensemble</i> teve como critério o modelo que melhor desempenhou no treinamento individual. Por fim, a saída deste modelo <i>ensemble</i> foi a gerada para submissão do conjunto de testes da competição. \n",
    "\n",
    "5. **Submissão**\n",
    "\n",
    "    <br>Nesta etapa, um arquivo **submission.csv** é gerado para submissão na competição da disciplina. O arquivo contém o Id do imóvel do conjunto de teste seguido do valor de imóvel previsto para o mesmo. \n",
    "    <br>\n",
    "____________________\n",
    "\n",
    "<h3>Resultados</h3>\n",
    "\n",
    "Os modelos foram avaliados utilizando-se a técnica de validação cruzada e o RMSPE médio com seu desvio padrão para um total de 10 folds foram calculados. O modelo a ser escolhido para o ensemble foi o Random Forest, que apresentou um RMSPE de 0.114923 para o conjunto de validação. \n",
    "\n",
    "O resultado do ensemble utilizando 10 folds de validação cruzada foi de 0.130741 +/- 0.037786 para o conjunto de validação. No entanto, este resultado não se verificou para 50% do conjunto de testes avaliado previamente na competição, que chegou a 0.26 na melhor submissão. \n",
    "\n",
    "<h3>Conclusão</h3>\n",
    "\n",
    "A etapa de pré-processamento se mostrou de considerável importância para a eficiência do preditor. Em especial, sugere-se uma automatização da escolha dos <i>thresholds</i> para que o melhor conjunto de hiperparâmetros seja encontrado para o problema em questão. \n",
    "\n",
    "Além dos parâmetros de pré-processamento, sugere-se uma análise mais profunda dos parâmetros de cada modelo para que, individualmente, eles possam gerar previsões melhores. \n",
    "\n",
    "Para trabalhos futuros, a adição de redes neurais como modelos de treinamento mostra-se uma abordagem interessante para mapear modelos mais robustos ou até não-lineares para a previsão do preço de imóveis. "
   ]
  },
  {
   "cell_type": "markdown",
   "metadata": {},
   "source": [
    "## 1. Imports"
   ]
  },
  {
   "cell_type": "code",
   "execution_count": 1,
   "metadata": {},
   "outputs": [],
   "source": [
    "import pandas as pd\n",
    "import numpy as np\n",
    "import os\n",
    "import seaborn as sns\n",
    "import matplotlib.pyplot as plt\n",
    "\n",
    "from scipy import stats\n",
    "from scipy.stats import norm, skew"
   ]
  },
  {
   "cell_type": "markdown",
   "metadata": {},
   "source": [
    "## 2. Carregando o dataset"
   ]
  },
  {
   "cell_type": "code",
   "execution_count": 2,
   "metadata": {},
   "outputs": [],
   "source": [
    "dataset_dir = './Dataset/'\n",
    "train_set = pd.read_csv(dataset_dir + 'train.csv')\n",
    "test_set = pd.read_csv(dataset_dir + 'test.csv')"
   ]
  },
  {
   "cell_type": "code",
   "execution_count": 3,
   "metadata": {},
   "outputs": [
    {
     "name": "stdout",
     "output_type": "stream",
     "text": [
      "<class 'pandas.core.frame.DataFrame'>\n",
      "RangeIndex: 4683 entries, 0 to 4682\n",
      "Data columns (total 21 columns):\n",
      "Id                4683 non-null int64\n",
      "tipo              4683 non-null object\n",
      "bairro            4683 non-null object\n",
      "tipo_vendedor     4683 non-null object\n",
      "quartos           4683 non-null int64\n",
      "suites            4683 non-null int64\n",
      "vagas             4683 non-null int64\n",
      "area_util         4683 non-null int64\n",
      "area_extra        4683 non-null int64\n",
      "diferenciais      4683 non-null object\n",
      "churrasqueira     4683 non-null int64\n",
      "estacionamento    4683 non-null int64\n",
      "piscina           4683 non-null int64\n",
      "playground        4683 non-null int64\n",
      "quadra            4683 non-null int64\n",
      "s_festas          4683 non-null int64\n",
      "s_jogos           4683 non-null int64\n",
      "s_ginastica       4683 non-null int64\n",
      "sauna             4683 non-null int64\n",
      "vista_mar         4683 non-null int64\n",
      "preco             4683 non-null float64\n",
      "dtypes: float64(1), int64(16), object(4)\n",
      "memory usage: 768.4+ KB\n"
     ]
    }
   ],
   "source": [
    "train_set.info()"
   ]
  },
  {
   "cell_type": "code",
   "execution_count": 4,
   "metadata": {},
   "outputs": [
    {
     "name": "stdout",
     "output_type": "stream",
     "text": [
      "<class 'pandas.core.frame.DataFrame'>\n",
      "RangeIndex: 2000 entries, 0 to 1999\n",
      "Data columns (total 20 columns):\n",
      "Id                2000 non-null int64\n",
      "tipo              2000 non-null object\n",
      "bairro            2000 non-null object\n",
      "tipo_vendedor     2000 non-null object\n",
      "quartos           2000 non-null int64\n",
      "suites            2000 non-null int64\n",
      "vagas             2000 non-null int64\n",
      "area_util         2000 non-null int64\n",
      "area_extra        2000 non-null int64\n",
      "diferenciais      2000 non-null object\n",
      "churrasqueira     2000 non-null int64\n",
      "estacionamento    2000 non-null int64\n",
      "piscina           2000 non-null int64\n",
      "playground        2000 non-null int64\n",
      "quadra            2000 non-null int64\n",
      "s_festas          2000 non-null int64\n",
      "s_jogos           2000 non-null int64\n",
      "s_ginastica       2000 non-null int64\n",
      "sauna             2000 non-null int64\n",
      "vista_mar         2000 non-null int64\n",
      "dtypes: int64(16), object(4)\n",
      "memory usage: 312.6+ KB\n"
     ]
    }
   ],
   "source": [
    "test_set.info()"
   ]
  },
  {
   "cell_type": "markdown",
   "metadata": {},
   "source": [
    "## 3. Pré-processamento\n",
    "\n",
    "O dataset não possui valores faltantes e, portanto, tal etapa não será realizada. \n",
    "\n",
    "Ao todo, o dataset possui 21 variáveis, das quais podem ser separadas em:\n",
    "- 4 Variáveis de entrada categóricas: tipo, bairro, tipo_vendedor, diferenciais\n",
    "- 5 Variáveis de entrada numéricas não-binárias: quartos, suites, vagas, area_util, area_extra\n",
    "- 10 Variáveis de entrada numéricas binárias: churrasqueira, estacionamento, piscina, playground, quadra, s_festas, s_jogos, s_ginastica, sauna, vista_mar\n",
    "- 1 Variável de saída numérica: preco\n",
    "\n",
    "A variável **Id** não possui valor quantitativo para o problema por se tratar de um identificador e, portanto, será continuamente removida das análises. \n",
    "\n",
    "O pré-processamento de cada um dos conjuntos de variáveis será realizado separadamente.\n"
   ]
  },
  {
   "cell_type": "code",
   "execution_count": 5,
   "metadata": {},
   "outputs": [
    {
     "name": "stdout",
     "output_type": "stream",
     "text": [
      "Train shape:  (4683, 21)\n",
      "Test shape:  (2000, 20)\n"
     ]
    }
   ],
   "source": [
    "print ('Train shape: ', train_set.shape)\n",
    "print ('Test shape: ', test_set.shape)"
   ]
  },
  {
   "cell_type": "markdown",
   "metadata": {},
   "source": [
    "### 3.0 Transformação Variável Saída"
   ]
  },
  {
   "cell_type": "code",
   "execution_count": 6,
   "metadata": {},
   "outputs": [
    {
     "data": {
      "text/plain": [
       "<matplotlib.axes._subplots.AxesSubplot at 0x1c9a9f4eef0>"
      ]
     },
     "execution_count": 6,
     "metadata": {},
     "output_type": "execute_result"
    },
    {
     "data": {
      "image/png": "[encoded data removed]",
      "text/plain": [
       "<matplotlib.figure.Figure at 0x1c9a9e628d0>"
      ]
     },
     "metadata": {},
     "output_type": "display_data"
    }
   ],
   "source": [
    "fig, axes = plt.subplots(2, 1, figsize=(10, 10), sharex=True)\n",
    "sns.distplot(train_set['preco'], bins = 10, ax = axes[0])\n",
    "sns.boxplot(x = train_set['preco'], ax = axes[1])"
   ]
  },
  {
   "cell_type": "code",
   "execution_count": 7,
   "metadata": {},
   "outputs": [],
   "source": [
    "preco_thr = 1.50*np.power(10, 6)\n",
    "train_set = train_set[train_set['preco'] < preco_thr]"
   ]
  },
  {
   "cell_type": "code",
   "execution_count": 8,
   "metadata": {},
   "outputs": [
    {
     "data": {
      "text/plain": [
       "<matplotlib.axes._subplots.AxesSubplot at 0x1c9aa234940>"
      ]
     },
     "execution_count": 8,
     "metadata": {},
     "output_type": "execute_result"
    },
    {
     "data": {
      "image/png": "[encoded data removed]",
      "text/plain": [
       "<matplotlib.figure.Figure at 0x1c9a9e62518>"
      ]
     },
     "metadata": {},
     "output_type": "display_data"
    }
   ],
   "source": [
    "fig, axes = plt.subplots(2, 1, figsize=(10, 10), sharex=True)\n",
    "sns.distplot(train_set['preco'], bins = 10, ax = axes[0])\n",
    "sns.boxplot(x = train_set['preco'], ax = axes[1])"
   ]
  },
  {
   "cell_type": "code",
   "execution_count": 9,
   "metadata": {},
   "outputs": [
    {
     "data": {
      "image/png": "[encoded data removed]",
      "text/plain": [
       "<matplotlib.figure.Figure at 0x1c9aa4b14a8>"
      ]
     },
     "metadata": {},
     "output_type": "display_data"
    }
   ],
   "source": [
    "fig, axes = plt.subplots(1, 2, figsize=(15, 6))\n",
    "sns.distplot(train_set['preco'], fit = norm, ax = axes[0]);\n",
    "(mu, sigma) = norm.fit(train_set['preco'])\n",
    "\n",
    "axes[0].legend(['Normal dist \\n$\\mu=$ {:.2f} and $\\sigma=$ {:.2f} \\nskewness= {:.2f}'\n",
    "                                    .format(mu, sigma, skew(train_set['preco']))],\n",
    "                loc='best')\n",
    "axes[0].set_ylabel('Frequency')\n",
    "axes[0].set_title('SalePrice distribution')\n",
    "\n",
    "stats.probplot(train_set['preco'], plot = axes[1])\n",
    "plt.show()"
   ]
  },
  {
   "cell_type": "markdown",
   "metadata": {},
   "source": [
    "Podemos perceber que a variável alvo não se aproxima da distribuição normal, e tem uma cauda longa para a direita. É recomendável realizar uma transformação nos dados para aproximá-los de uma gaussiana, o que costuma melhorar a performance dos modelos. Para isso, será utilizada a transformação logp1. Como o desafio no kaggle avalia o RMSLE, ao realizar esta transformação na saída, podemos avaliar os modelos utilizando o RMSE como métrica de erro, sem se preocupar em fazer a transformação inversa da variável, a parcela log já foi aplicada."
   ]
  },
  {
   "cell_type": "code",
   "execution_count": 10,
   "metadata": {},
   "outputs": [],
   "source": [
    "train_set['preco'] = np.log1p(train_set['preco'])"
   ]
  },
  {
   "cell_type": "code",
   "execution_count": 11,
   "metadata": {},
   "outputs": [
    {
     "data": {
      "image/png": "[encoded data removed]",
      "text/plain": [
       "<matplotlib.figure.Figure at 0x1c9aa24c8d0>"
      ]
     },
     "metadata": {},
     "output_type": "display_data"
    }
   ],
   "source": [
    "fig, axes = plt.subplots(1, 2, figsize=(15, 6))\n",
    "sns.distplot(train_set['preco'], fit = norm, ax = axes[0]);\n",
    "\n",
    "(mu, sigma) = norm.fit(train_set['preco'])\n",
    "axes[0].legend(['Normal dist \\n$\\mu=$ {:.2f} and $\\sigma=$ {:.2f}\\nskewness= {:.2f}'\n",
    "                                                .format(mu, sigma, skew(train_set['preco']))],\n",
    "               loc='best')\n",
    "axes[0].set_ylabel('Frequency')\n",
    "axes[0].set_title('SalePrice distribution')\n",
    "\n",
    "res = stats.probplot(train_set['preco'], plot = axes[1])\n",
    "plt.show()"
   ]
  },
  {
   "cell_type": "code",
   "execution_count": 12,
   "metadata": {},
   "outputs": [
    {
     "name": "stdout",
     "output_type": "stream",
     "text": [
      "Train shape:  (4308, 21)\n",
      "Test shape:  (2000, 20)\n"
     ]
    }
   ],
   "source": [
    "print ('Train shape: ', train_set.shape)\n",
    "print ('Test shape: ', test_set.shape)"
   ]
  },
  {
   "cell_type": "markdown",
   "metadata": {},
   "source": [
    "### 3.1 Transformação de variável categórica em numérica"
   ]
  },
  {
   "cell_type": "markdown",
   "metadata": {},
   "source": [
    "#### 3.1.1 Tipo\n",
    "Como a quantidade de ocorrências dos tipos Apartamento e Casa são muito maiores do que Quitinete e Loft, esta variável será transformada em uma variável binária onde **1** é o tipo apartamento e **0** é o tipo não-apartamento (Casa, Quitinete ou Loft)"
   ]
  },
  {
   "cell_type": "code",
   "execution_count": 13,
   "metadata": {},
   "outputs": [
    {
     "data": {
      "image/png": "[encoded data removed]",
      "text/plain": [
       "<matplotlib.figure.Figure at 0x1c9aa373e80>"
      ]
     },
     "metadata": {},
     "output_type": "display_data"
    }
   ],
   "source": [
    "sns.countplot(x='tipo', data=train_set);\n",
    "#plt.xticks(rotation=45);"
   ]
  },
  {
   "cell_type": "code",
   "execution_count": 14,
   "metadata": {},
   "outputs": [],
   "source": [
    "replace_dict = {'Casa':0, 'Quitinete':0, 'Loft':0, 'Apartamento': 1}\n",
    "\n",
    "train_set['tipo'] = train_set['tipo'].replace(replace_dict)\n",
    "test_set['tipo'] = test_set['tipo'].replace(replace_dict)"
   ]
  },
  {
   "cell_type": "code",
   "execution_count": 15,
   "metadata": {},
   "outputs": [
    {
     "data": {
      "image/png": "[encoded data removed]",
      "text/plain": [
       "<matplotlib.figure.Figure at 0x1c9aa389400>"
      ]
     },
     "metadata": {},
     "output_type": "display_data"
    }
   ],
   "source": [
    "sns.countplot(x='tipo', data=train_set);"
   ]
  },
  {
   "cell_type": "code",
   "execution_count": 16,
   "metadata": {},
   "outputs": [
    {
     "name": "stdout",
     "output_type": "stream",
     "text": [
      "Train shape:  (4308, 21)\n",
      "Test shape:  (2000, 20)\n"
     ]
    }
   ],
   "source": [
    "print ('Train shape: ', train_set.shape)\n",
    "print ('Test shape: ', test_set.shape)"
   ]
  },
  {
   "cell_type": "markdown",
   "metadata": {},
   "source": [
    "#### 3.1.2 Bairro\n",
    "\n",
    "Pela do bairro, podemos ver que temos 66 bairros diferentes sendo que o bairro mais frequente é Boa Viagem (1599 ocorrências). Como esta variável deve ser binarizada, ela sozinha geraria 66 variáveis a mais para o modelo, todas informando apenas qual bairro o imóvel se encontra. \n",
    "\n",
    "Para reduzir o número de variáveis, traçaremos um threshold definindo os bairros que não possuem quantidade expressiva de ocorrências. "
   ]
  },
  {
   "cell_type": "code",
   "execution_count": 17,
   "metadata": {},
   "outputs": [
    {
     "data": {
      "text/plain": [
       "(array([ 0,  1,  2,  3,  4,  5,  6,  7,  8,  9, 10, 11, 12, 13, 14, 15, 16,\n",
       "        17, 18, 19, 20, 21, 22, 23, 24, 25, 26, 27, 28, 29, 30, 31, 32, 33,\n",
       "        34, 35, 36, 37, 38, 39, 40, 41, 42, 43, 44, 45, 46, 47, 48, 49, 50,\n",
       "        51, 52, 53, 54, 55, 56, 57, 58, 59, 60, 61, 62, 63, 64, 65]),\n",
       " <a list of 66 Text xticklabel objects>)"
      ]
     },
     "execution_count": 17,
     "metadata": {},
     "output_type": "execute_result"
    },
    {
     "data": {
      "image/png": "[encoded data removed]",
      "text/plain": [
       "<matplotlib.figure.Figure at 0x1c9aa360320>"
      ]
     },
     "metadata": {},
     "output_type": "display_data"
    }
   ],
   "source": [
    "train_set['bairro'].value_counts().plot(kind=\"bar\")\n",
    "plt.xticks(rotation=45)"
   ]
  },
  {
   "cell_type": "markdown",
   "metadata": {},
   "source": [
    "#### Clusterização dos bairros"
   ]
  },
  {
   "cell_type": "code",
   "execution_count": 18,
   "metadata": {},
   "outputs": [],
   "source": [
    "train_set['bairro'] = train_set['bairro'].apply(lambda x: x.replace(' ', '_').lower())\n",
    "test_set['bairro'] = test_set['bairro'].apply(lambda x: x.replace(' ', '_').lower())"
   ]
  },
  {
   "cell_type": "code",
   "execution_count": 19,
   "metadata": {},
   "outputs": [],
   "source": [
    "df_train_bairros = pd.get_dummies(train_set['bairro'], prefix='bairro')\n",
    "df_test_bairros = pd.get_dummies(test_set['bairro'], prefix='bairro')"
   ]
  },
  {
   "cell_type": "code",
   "execution_count": 20,
   "metadata": {},
   "outputs": [],
   "source": [
    "# Making sure test set has all columns of train set except for preco\n",
    "for column in df_train_bairros.columns:\n",
    "    if column not in df_test_bairros.columns and column != 'preco':\n",
    "        df_test_bairros[column] = 0\n",
    "\n",
    "for column in df_test_bairros.columns:\n",
    "    if column not in df_train_bairros.columns:\n",
    "        df_train_bairros[column] = 0"
   ]
  },
  {
   "cell_type": "code",
   "execution_count": 21,
   "metadata": {},
   "outputs": [],
   "source": [
    "df_train_bairros['preco'] = train_set['preco']"
   ]
  },
  {
   "cell_type": "code",
   "execution_count": 22,
   "metadata": {},
   "outputs": [
    {
     "data": {
      "text/plain": [
       "KMeans(algorithm='auto', copy_x=True, init='k-means++', max_iter=300,\n",
       "    n_clusters=20, n_init=10, n_jobs=1, precompute_distances='auto',\n",
       "    random_state=0, tol=0.0001, verbose=0)"
      ]
     },
     "execution_count": 22,
     "metadata": {},
     "output_type": "execute_result"
    }
   ],
   "source": [
    "from sklearn.cluster import KMeans \n",
    "n_clusters = 20\n",
    "\n",
    "kmeans = KMeans(n_clusters = n_clusters, random_state = 0)\n",
    "kmeans.fit(df_train_bairros.drop(['preco'], axis = 1), df_train_bairros['preco'])"
   ]
  },
  {
   "cell_type": "code",
   "execution_count": 23,
   "metadata": {},
   "outputs": [],
   "source": [
    "df_train_clusters = pd.DataFrame()\n",
    "df_train_clusters['clusters'] = kmeans.labels_\n",
    "df_train_clusters['preco'] = df_train_bairros['preco']"
   ]
  },
  {
   "cell_type": "code",
   "execution_count": 24,
   "metadata": {},
   "outputs": [],
   "source": [
    "train_set['bairro'] = kmeans.predict(df_train_bairros.drop(['preco'], axis = 1))\n",
    "test_set['bairro'] = kmeans.predict(df_test_bairros)"
   ]
  },
  {
   "cell_type": "code",
   "execution_count": 25,
   "metadata": {},
   "outputs": [],
   "source": [
    "train_set = pd.concat([train_set, pd.get_dummies(train_set['bairro'], prefix='bairro')], axis=1)\n",
    "train_set.drop(['bairro'], axis = 1, inplace = True)\n",
    "test_set = pd.concat([test_set, pd.get_dummies(test_set['bairro'], prefix='bairro')], axis=1)\n",
    "test_set.drop(['bairro'], axis = 1, inplace = True)"
   ]
  },
  {
   "cell_type": "code",
   "execution_count": 26,
   "metadata": {},
   "outputs": [],
   "source": [
    "# Making sure test set has all columns of train set except for preco\n",
    "for column in train_set.columns:\n",
    "    if column not in test_set.columns and column != 'preco':\n",
    "        test_set[column] = 0\n",
    "\n",
    "for column in test_set.columns:\n",
    "    if column not in train_set.columns:\n",
    "        train_set[column] = 0"
   ]
  },
  {
   "cell_type": "code",
   "execution_count": 27,
   "metadata": {},
   "outputs": [
    {
     "name": "stdout",
     "output_type": "stream",
     "text": [
      "Train shape:  (4308, 40)\n",
      "Test shape:  (2000, 39)\n"
     ]
    }
   ],
   "source": [
    "print ('Train shape: ', train_set.shape)\n",
    "print ('Test shape: ', test_set.shape)"
   ]
  },
  {
   "cell_type": "markdown",
   "metadata": {},
   "source": [
    "#### 3.1.3 Tipo Vendedor\n",
    "Como só há 2 tipos de vendedores (Imobiliária e Pessoa Física), categorizaremos essa variável da seguinte forma: \n",
    "- 0: Imobiliária\n",
    "- 1: Pessoa Física"
   ]
  },
  {
   "cell_type": "code",
   "execution_count": 28,
   "metadata": {},
   "outputs": [
    {
     "data": {
      "text/plain": [
       "(array([0, 1]), <a list of 2 Text xticklabel objects>)"
      ]
     },
     "execution_count": 28,
     "metadata": {},
     "output_type": "execute_result"
    },
    {
     "data": {
      "image/png": "[encoded data removed]",
      "text/plain": [
       "<matplotlib.figure.Figure at 0x1c9ab14b908>"
      ]
     },
     "metadata": {},
     "output_type": "display_data"
    }
   ],
   "source": [
    "train_set['tipo_vendedor'].value_counts().plot(kind=\"bar\")\n",
    "plt.xticks(rotation=45)"
   ]
  },
  {
   "cell_type": "code",
   "execution_count": 29,
   "metadata": {},
   "outputs": [],
   "source": [
    "replace_dict = {'Imobiliaria':0, 'Pessoa Fisica': 1}\n",
    "\n",
    "train_set['tipo_vendedor'] = train_set['tipo_vendedor'].replace(replace_dict)\n",
    "test_set['tipo_vendedor'] = test_set['tipo_vendedor'].replace(replace_dict)"
   ]
  },
  {
   "cell_type": "code",
   "execution_count": 30,
   "metadata": {},
   "outputs": [
    {
     "data": {
      "text/plain": [
       "<matplotlib.axes._subplots.AxesSubplot at 0x1c9ab8d8390>"
      ]
     },
     "execution_count": 30,
     "metadata": {},
     "output_type": "execute_result"
    },
    {
     "data": {
      "image/png": "[encoded data removed]",
      "text/plain": [
       "<matplotlib.figure.Figure at 0x1c9ab1c3470>"
      ]
     },
     "metadata": {},
     "output_type": "display_data"
    }
   ],
   "source": [
    "train_set['tipo_vendedor'].value_counts().plot(kind=\"bar\")"
   ]
  },
  {
   "cell_type": "markdown",
   "metadata": {},
   "source": [
    "#### 3.1.4 Diferenciais\n",
    "De acordo com a descrição do dataset, as variáveis numéricas binárias contém a informação de existência ou inexistência de uma palavra na variável diferenciais. Portanto, a informação semântica desta variável já está contida em outras variáveis e, por isso, ela não será utilizada no treinamento."
   ]
  },
  {
   "cell_type": "code",
   "execution_count": null,
   "metadata": {},
   "outputs": [],
   "source": [
    "# itens_binarizados = ['churrasqueira', 'estacionamento', 'piscina', \n",
    "#              'playground', 'quadra', 's_festas', \n",
    "#              's_jogos', 's_ginastica', 'sauna', 'vista_mar']\n",
    "# separador_diferenciais = lambda x: pd.Series([str(i).lower() for i in reversed(x.split(' e '))])\n",
    "# # diferenciais = train_set['diferenciais'].apply(separador_diferenciais)\n",
    "# diferenciais_unicos = np.array([])\n",
    "# for dif_index in diferenciais.columns:\n",
    "#     diferenciais_unicos = np.append(diferenciais_unicos, diferenciais[dif_index].unique(), axis = 0)        \n",
    "# diferenciais_unicos = np.array(['nenhum' if x is np.nan else x for x in diferenciais_unicos])\n",
    "# diferenciais_unicos = np.unique(diferenciais_unicos)\n",
    "# for diferencial in diferenciais_unicos:\n",
    "#     if diferencial not in itens_binarizados:\n",
    "#         train_set['dif_' + str(diferencial)] = train_set['diferenciais'].apply(lambda x: 1 if diferencial in x else 0)\n",
    "#         test_set['dif_' + str(diferencial)] = test_set['diferenciais'].apply(lambda x: 1 if diferencial in x else 0)\n",
    "# train_set.drop(['diferenciais'], axis = 1, inplace = True)\n",
    "# test_set.drop(['diferenciais'], axis = 1, inplace = True)"
   ]
  },
  {
   "cell_type": "code",
   "execution_count": 31,
   "metadata": {},
   "outputs": [],
   "source": [
    "train_set.drop(['diferenciais'], axis = 1, inplace = True)\n",
    "test_set.drop(['diferenciais'], axis = 1, inplace = True)"
   ]
  },
  {
   "cell_type": "code",
   "execution_count": 32,
   "metadata": {},
   "outputs": [
    {
     "name": "stdout",
     "output_type": "stream",
     "text": [
      "Train shape:  (4308, 39)\n",
      "Test shape:  (2000, 38)\n"
     ]
    }
   ],
   "source": [
    "print ('Train shape: ', train_set.shape)\n",
    "print ('Test shape: ', test_set.shape)"
   ]
  },
  {
   "cell_type": "markdown",
   "metadata": {},
   "source": [
    "### 3.2 Transformação Variáveis Numéricas Não-Binárias\n",
    "\n",
    "quartos, suites, vagas, area_util, area_extra"
   ]
  },
  {
   "cell_type": "code",
   "execution_count": 33,
   "metadata": {},
   "outputs": [
    {
     "data": {
      "text/html": [
       "<div>\n",
       "<style scoped>\n",
       "    .dataframe tbody tr th:only-of-type {\n",
       "        vertical-align: middle;\n",
       "    }\n",
       "\n",
       "    .dataframe tbody tr th {\n",
       "        vertical-align: top;\n",
       "    }\n",
       "\n",
       "    .dataframe thead th {\n",
       "        text-align: right;\n",
       "    }\n",
       "</style>\n",
       "<table border=\"1\" class=\"dataframe\">\n",
       "  <thead>\n",
       "    <tr style=\"text-align: right;\">\n",
       "      <th></th>\n",
       "      <th>quartos</th>\n",
       "      <th>suites</th>\n",
       "      <th>vagas</th>\n",
       "      <th>area_util</th>\n",
       "      <th>area_extra</th>\n",
       "    </tr>\n",
       "  </thead>\n",
       "  <tbody>\n",
       "    <tr>\n",
       "      <th>count</th>\n",
       "      <td>4308.000000</td>\n",
       "      <td>4308.000000</td>\n",
       "      <td>4308.000000</td>\n",
       "      <td>4308.000000</td>\n",
       "      <td>4308.000000</td>\n",
       "    </tr>\n",
       "    <tr>\n",
       "      <th>mean</th>\n",
       "      <td>2.954503</td>\n",
       "      <td>1.276230</td>\n",
       "      <td>1.577530</td>\n",
       "      <td>110.428041</td>\n",
       "      <td>11.938719</td>\n",
       "    </tr>\n",
       "    <tr>\n",
       "      <th>std</th>\n",
       "      <td>0.827477</td>\n",
       "      <td>0.942666</td>\n",
       "      <td>1.094672</td>\n",
       "      <td>91.048928</td>\n",
       "      <td>275.713843</td>\n",
       "    </tr>\n",
       "    <tr>\n",
       "      <th>min</th>\n",
       "      <td>1.000000</td>\n",
       "      <td>0.000000</td>\n",
       "      <td>0.000000</td>\n",
       "      <td>21.000000</td>\n",
       "      <td>0.000000</td>\n",
       "    </tr>\n",
       "    <tr>\n",
       "      <th>25%</th>\n",
       "      <td>3.000000</td>\n",
       "      <td>1.000000</td>\n",
       "      <td>1.000000</td>\n",
       "      <td>65.000000</td>\n",
       "      <td>0.000000</td>\n",
       "    </tr>\n",
       "    <tr>\n",
       "      <th>50%</th>\n",
       "      <td>3.000000</td>\n",
       "      <td>1.000000</td>\n",
       "      <td>1.000000</td>\n",
       "      <td>90.000000</td>\n",
       "      <td>0.000000</td>\n",
       "    </tr>\n",
       "    <tr>\n",
       "      <th>75%</th>\n",
       "      <td>3.000000</td>\n",
       "      <td>1.000000</td>\n",
       "      <td>2.000000</td>\n",
       "      <td>132.000000</td>\n",
       "      <td>0.000000</td>\n",
       "    </tr>\n",
       "    <tr>\n",
       "      <th>max</th>\n",
       "      <td>9.000000</td>\n",
       "      <td>6.000000</td>\n",
       "      <td>30.000000</td>\n",
       "      <td>2045.000000</td>\n",
       "      <td>17450.000000</td>\n",
       "    </tr>\n",
       "  </tbody>\n",
       "</table>\n",
       "</div>"
      ],
      "text/plain": [
       "           quartos       suites        vagas    area_util    area_extra\n",
       "count  4308.000000  4308.000000  4308.000000  4308.000000   4308.000000\n",
       "mean      2.954503     1.276230     1.577530   110.428041     11.938719\n",
       "std       0.827477     0.942666     1.094672    91.048928    275.713843\n",
       "min       1.000000     0.000000     0.000000    21.000000      0.000000\n",
       "25%       3.000000     1.000000     1.000000    65.000000      0.000000\n",
       "50%       3.000000     1.000000     1.000000    90.000000      0.000000\n",
       "75%       3.000000     1.000000     2.000000   132.000000      0.000000\n",
       "max       9.000000     6.000000    30.000000  2045.000000  17450.000000"
      ]
     },
     "execution_count": 33,
     "metadata": {},
     "output_type": "execute_result"
    }
   ],
   "source": [
    "numerical_colnames = ['quartos', 'suites', 'vagas', 'area_util', 'area_extra']\n",
    "train_set[numerical_colnames].describe()"
   ]
  },
  {
   "cell_type": "code",
   "execution_count": 34,
   "metadata": {},
   "outputs": [
    {
     "data": {
      "image/png": "[encoded data removed]",
      "text/plain": [
       "<matplotlib.figure.Figure at 0x1c9ab92be10>"
      ]
     },
     "metadata": {},
     "output_type": "display_data"
    }
   ],
   "source": [
    "data = pd.concat([train_set['preco'], train_set[numerical_colnames]], axis=1)\n",
    "fig, axes = plt.subplots(3, 2, figsize=(10, 10))\n",
    "for i in range(len(numerical_colnames)):\n",
    "    data.plot.scatter(x = numerical_colnames[i], y = 'preco', ax = axes[i//2, i%2], \n",
    "                      sharey = True, grid = True)"
   ]
  },
  {
   "cell_type": "markdown",
   "metadata": {},
   "source": [
    "#### 3.2.1 Quartos"
   ]
  },
  {
   "cell_type": "code",
   "execution_count": 35,
   "metadata": {},
   "outputs": [
    {
     "data": {
      "text/plain": [
       "<matplotlib.axes._subplots.AxesSubplot at 0x1c9aa3a7c50>"
      ]
     },
     "execution_count": 35,
     "metadata": {},
     "output_type": "execute_result"
    },
    {
     "data": {
      "image/png": "[encoded data removed]",
      "text/plain": [
       "<matplotlib.figure.Figure at 0x1c9aa29d4e0>"
      ]
     },
     "metadata": {},
     "output_type": "display_data"
    }
   ],
   "source": [
    "fig, axes = plt.subplots(2, 1, figsize=(10, 10), sharex=True)\n",
    "sns.distplot(train_set['quartos'], bins = 10, ax = axes[0])\n",
    "sns.boxplot(x = train_set['quartos'], ax = axes[1])"
   ]
  },
  {
   "cell_type": "code",
   "execution_count": 36,
   "metadata": {},
   "outputs": [],
   "source": [
    "quartos_thr = 5\n",
    "train_set = train_set[train_set['quartos'] < quartos_thr]"
   ]
  },
  {
   "cell_type": "code",
   "execution_count": 37,
   "metadata": {},
   "outputs": [
    {
     "name": "stdout",
     "output_type": "stream",
     "text": [
      "Train shape:  (4255, 39)\n",
      "Test shape:  (2000, 38)\n"
     ]
    }
   ],
   "source": [
    "print ('Train shape: ', train_set.shape)\n",
    "print ('Test shape: ', test_set.shape)"
   ]
  },
  {
   "cell_type": "markdown",
   "metadata": {},
   "source": [
    "#### 3.3.2 Suites"
   ]
  },
  {
   "cell_type": "code",
   "execution_count": 38,
   "metadata": {},
   "outputs": [
    {
     "data": {
      "text/plain": [
       "<matplotlib.axes._subplots.AxesSubplot at 0x1c9aae9e438>"
      ]
     },
     "execution_count": 38,
     "metadata": {},
     "output_type": "execute_result"
    },
    {
     "data": {
      "image/png": "[encoded data removed]",
      "text/plain": [
       "<matplotlib.figure.Figure at 0x1c9aba41898>"
      ]
     },
     "metadata": {},
     "output_type": "display_data"
    }
   ],
   "source": [
    "fig, axes = plt.subplots(2, 1, figsize=(10, 10), sharex=True)\n",
    "sns.distplot(train_set['suites'], bins = 10, ax = axes[0])\n",
    "sns.boxplot(x = train_set['suites'], ax = axes[1])"
   ]
  },
  {
   "cell_type": "code",
   "execution_count": 39,
   "metadata": {},
   "outputs": [],
   "source": [
    "suites_thr = 5\n",
    "train_set = train_set[train_set['suites'] < suites_thr]"
   ]
  },
  {
   "cell_type": "code",
   "execution_count": 40,
   "metadata": {},
   "outputs": [
    {
     "name": "stdout",
     "output_type": "stream",
     "text": [
      "Train shape:  (4255, 39)\n",
      "Test shape:  (2000, 38)\n"
     ]
    }
   ],
   "source": [
    "print ('Train shape: ', train_set.shape)\n",
    "print ('Test shape: ', test_set.shape)"
   ]
  },
  {
   "cell_type": "markdown",
   "metadata": {},
   "source": [
    "#### 3.3.3 Vagas"
   ]
  },
  {
   "cell_type": "code",
   "execution_count": 41,
   "metadata": {},
   "outputs": [
    {
     "data": {
      "text/plain": [
       "<matplotlib.axes._subplots.AxesSubplot at 0x1c9aaf7a390>"
      ]
     },
     "execution_count": 41,
     "metadata": {},
     "output_type": "execute_result"
    },
    {
     "data": {
      "image/png": "[encoded data removed]",
      "text/plain": [
       "<matplotlib.figure.Figure at 0x1c9aaf10f60>"
      ]
     },
     "metadata": {},
     "output_type": "display_data"
    }
   ],
   "source": [
    "fig, axes = plt.subplots(2, 1, figsize=(10, 10), sharex=True)\n",
    "sns.distplot(train_set['vagas'], bins = 10, ax = axes[0])\n",
    "sns.boxplot(x = train_set['vagas'], ax = axes[1])"
   ]
  },
  {
   "cell_type": "code",
   "execution_count": 42,
   "metadata": {},
   "outputs": [],
   "source": [
    "vagas_thr = 5\n",
    "train_set = train_set[train_set['vagas'] < vagas_thr]"
   ]
  },
  {
   "cell_type": "code",
   "execution_count": 43,
   "metadata": {},
   "outputs": [
    {
     "name": "stdout",
     "output_type": "stream",
     "text": [
      "Train shape:  (4225, 39)\n",
      "Test shape:  (2000, 38)\n"
     ]
    }
   ],
   "source": [
    "print ('Train shape: ', train_set.shape)\n",
    "print ('Test shape: ', test_set.shape)"
   ]
  },
  {
   "cell_type": "markdown",
   "metadata": {},
   "source": [
    "#### 3.3.4 Area Util"
   ]
  },
  {
   "cell_type": "code",
   "execution_count": 44,
   "metadata": {},
   "outputs": [
    {
     "data": {
      "text/plain": [
       "<matplotlib.axes._subplots.AxesSubplot at 0x1c9abf6da90>"
      ]
     },
     "execution_count": 44,
     "metadata": {},
     "output_type": "execute_result"
    },
    {
     "data": {
      "image/png": "[encoded data removed]",
      "text/plain": [
       "<matplotlib.figure.Figure at 0x1c9abaa0b00>"
      ]
     },
     "metadata": {},
     "output_type": "display_data"
    }
   ],
   "source": [
    "fig, axes = plt.subplots(2, 1, figsize=(10, 10), sharex=True)\n",
    "sns.distplot(train_set['area_util'], bins = 10, ax = axes[0])\n",
    "sns.boxplot(x = train_set['area_util'], ax = axes[1])"
   ]
  },
  {
   "cell_type": "code",
   "execution_count": 45,
   "metadata": {},
   "outputs": [],
   "source": [
    "area_util_thr = 400\n",
    "train_set = train_set[train_set['area_util'] < area_util_thr]"
   ]
  },
  {
   "cell_type": "code",
   "execution_count": 46,
   "metadata": {},
   "outputs": [
    {
     "data": {
      "image/png": "[encoded data removed]",
      "text/plain": [
       "<matplotlib.figure.Figure at 0x1c9af27ab38>"
      ]
     },
     "metadata": {},
     "output_type": "display_data"
    }
   ],
   "source": [
    "fig, axes = plt.subplots(1, 2, figsize=(15, 6))\n",
    "sns.distplot(train_set['area_util'], fit = norm, ax = axes[0]);\n",
    "\n",
    "(mu, sigma) = norm.fit(train_set['area_util'])\n",
    "axes[0].legend(['Normal dist \\n$\\mu=$ {:.2f} and $\\sigma=$ {:.2f}\\nskewness= {:.2f}'\n",
    "                                                .format(mu, sigma, skew(train_set['area_util']))],\n",
    "               loc='best')\n",
    "axes[0].set_ylabel('Frequency')\n",
    "axes[0].set_title('Area util distribution')\n",
    "\n",
    "res = stats.probplot(train_set['area_util'], plot = axes[1])\n",
    "plt.show()"
   ]
  },
  {
   "cell_type": "code",
   "execution_count": 48,
   "metadata": {},
   "outputs": [
    {
     "name": "stdout",
     "output_type": "stream",
     "text": [
      "Train shape:  (4204, 39)\n",
      "Test shape:  (2000, 38)\n"
     ]
    }
   ],
   "source": [
    "print ('Train shape: ', train_set.shape)\n",
    "print ('Test shape: ', test_set.shape)"
   ]
  },
  {
   "cell_type": "markdown",
   "metadata": {},
   "source": [
    "#### 3.3.5 Area Extra"
   ]
  },
  {
   "cell_type": "code",
   "execution_count": 49,
   "metadata": {},
   "outputs": [
    {
     "data": {
      "text/plain": [
       "<matplotlib.axes._subplots.AxesSubplot at 0x1c9af9b2f60>"
      ]
     },
     "execution_count": 49,
     "metadata": {},
     "output_type": "execute_result"
    },
    {
     "data": {
      "image/png": "[encoded data removed]",
      "text/plain": [
       "<matplotlib.figure.Figure at 0x1c9abf77fd0>"
      ]
     },
     "metadata": {},
     "output_type": "display_data"
    }
   ],
   "source": [
    "fig, axes = plt.subplots(2, 1, figsize=(10, 10), sharex=True)\n",
    "sns.distplot(train_set['area_extra'], bins = 10, ax = axes[0])\n",
    "sns.boxplot(x = train_set['area_extra'], ax = axes[1])"
   ]
  },
  {
   "cell_type": "code",
   "execution_count": 50,
   "metadata": {},
   "outputs": [],
   "source": [
    "area_extra_thr = 150\n",
    "train_set = train_set[train_set['area_extra'] < area_extra_thr]"
   ]
  },
  {
   "cell_type": "code",
   "execution_count": 51,
   "metadata": {},
   "outputs": [
    {
     "data": {
      "image/png": "[encoded data removed]",
      "text/plain": [
       "<matplotlib.figure.Figure at 0x1c9af352898>"
      ]
     },
     "metadata": {},
     "output_type": "display_data"
    }
   ],
   "source": [
    "fig, axes = plt.subplots(1, 2, figsize=(15, 6))\n",
    "sns.distplot(train_set['area_extra'], fit = norm, ax = axes[0]);\n",
    "\n",
    "(mu, sigma) = norm.fit(train_set['area_extra'])\n",
    "axes[0].legend(['Normal dist \\n$\\mu=$ {:.2f} and $\\sigma=$ {:.2f}\\nskewness= {:.2f}'\n",
    "                                                .format(mu, sigma, skew(train_set['area_extra']))],\n",
    "               loc='best')\n",
    "axes[0].set_ylabel('Frequency')\n",
    "axes[0].set_title('Area extra distribution')\n",
    "\n",
    "res = stats.probplot(train_set['area_extra'], plot = axes[1])\n",
    "plt.show()"
   ]
  },
  {
   "cell_type": "code",
   "execution_count": 52,
   "metadata": {},
   "outputs": [],
   "source": [
    "train_set['area_extra'] = np.log1p(train_set['area_extra'])\n",
    "test_set['area_extra'] = np.log1p(test_set['area_extra'])"
   ]
  },
  {
   "cell_type": "code",
   "execution_count": 53,
   "metadata": {},
   "outputs": [
    {
     "data": {
      "image/png": "[encoded data removed]",
      "text/plain": [
       "<matplotlib.figure.Figure at 0x1c9af646860>"
      ]
     },
     "metadata": {},
     "output_type": "display_data"
    }
   ],
   "source": [
    "fig, axes = plt.subplots(1, 2, figsize=(15, 6))\n",
    "sns.distplot(train_set['area_extra'], fit = norm, ax = axes[0]);\n",
    "\n",
    "(mu, sigma) = norm.fit(train_set['area_extra'])\n",
    "axes[0].legend(['Normal dist \\n$\\mu=$ {:.2f} and $\\sigma=$ {:.2f}\\nskewness= {:.2f}'\n",
    "                                                .format(mu, sigma, skew(train_set['area_extra']))],\n",
    "               loc='best')\n",
    "axes[0].set_ylabel('Frequency')\n",
    "axes[0].set_title('Area extra distribution')\n",
    "\n",
    "res = stats.probplot(train_set['area_extra'], plot = axes[1])\n",
    "plt.show()"
   ]
  },
  {
   "cell_type": "code",
   "execution_count": 54,
   "metadata": {},
   "outputs": [
    {
     "data": {
      "text/html": [
       "<div>\n",
       "<style scoped>\n",
       "    .dataframe tbody tr th:only-of-type {\n",
       "        vertical-align: middle;\n",
       "    }\n",
       "\n",
       "    .dataframe tbody tr th {\n",
       "        vertical-align: top;\n",
       "    }\n",
       "\n",
       "    .dataframe thead th {\n",
       "        text-align: right;\n",
       "    }\n",
       "</style>\n",
       "<table border=\"1\" class=\"dataframe\">\n",
       "  <thead>\n",
       "    <tr style=\"text-align: right;\">\n",
       "      <th></th>\n",
       "      <th>quartos</th>\n",
       "      <th>suites</th>\n",
       "      <th>vagas</th>\n",
       "      <th>area_util</th>\n",
       "      <th>area_extra</th>\n",
       "    </tr>\n",
       "  </thead>\n",
       "  <tbody>\n",
       "    <tr>\n",
       "      <th>count</th>\n",
       "      <td>4186.000000</td>\n",
       "      <td>4186.000000</td>\n",
       "      <td>4186.000000</td>\n",
       "      <td>4186.000000</td>\n",
       "      <td>4186.000000</td>\n",
       "    </tr>\n",
       "    <tr>\n",
       "      <th>mean</th>\n",
       "      <td>2.916149</td>\n",
       "      <td>1.266364</td>\n",
       "      <td>1.509078</td>\n",
       "      <td>102.214047</td>\n",
       "      <td>0.354931</td>\n",
       "    </tr>\n",
       "    <tr>\n",
       "      <th>std</th>\n",
       "      <td>0.771903</td>\n",
       "      <td>0.933385</td>\n",
       "      <td>0.765467</td>\n",
       "      <td>50.497648</td>\n",
       "      <td>1.070384</td>\n",
       "    </tr>\n",
       "    <tr>\n",
       "      <th>min</th>\n",
       "      <td>1.000000</td>\n",
       "      <td>0.000000</td>\n",
       "      <td>0.000000</td>\n",
       "      <td>23.000000</td>\n",
       "      <td>0.000000</td>\n",
       "    </tr>\n",
       "    <tr>\n",
       "      <th>25%</th>\n",
       "      <td>2.000000</td>\n",
       "      <td>1.000000</td>\n",
       "      <td>1.000000</td>\n",
       "      <td>65.000000</td>\n",
       "      <td>0.000000</td>\n",
       "    </tr>\n",
       "    <tr>\n",
       "      <th>50%</th>\n",
       "      <td>3.000000</td>\n",
       "      <td>1.000000</td>\n",
       "      <td>1.000000</td>\n",
       "      <td>89.000000</td>\n",
       "      <td>0.000000</td>\n",
       "    </tr>\n",
       "    <tr>\n",
       "      <th>75%</th>\n",
       "      <td>3.000000</td>\n",
       "      <td>1.000000</td>\n",
       "      <td>2.000000</td>\n",
       "      <td>128.000000</td>\n",
       "      <td>0.000000</td>\n",
       "    </tr>\n",
       "    <tr>\n",
       "      <th>max</th>\n",
       "      <td>4.000000</td>\n",
       "      <td>4.000000</td>\n",
       "      <td>4.000000</td>\n",
       "      <td>388.000000</td>\n",
       "      <td>4.997212</td>\n",
       "    </tr>\n",
       "  </tbody>\n",
       "</table>\n",
       "</div>"
      ],
      "text/plain": [
       "           quartos       suites        vagas    area_util   area_extra\n",
       "count  4186.000000  4186.000000  4186.000000  4186.000000  4186.000000\n",
       "mean      2.916149     1.266364     1.509078   102.214047     0.354931\n",
       "std       0.771903     0.933385     0.765467    50.497648     1.070384\n",
       "min       1.000000     0.000000     0.000000    23.000000     0.000000\n",
       "25%       2.000000     1.000000     1.000000    65.000000     0.000000\n",
       "50%       3.000000     1.000000     1.000000    89.000000     0.000000\n",
       "75%       3.000000     1.000000     2.000000   128.000000     0.000000\n",
       "max       4.000000     4.000000     4.000000   388.000000     4.997212"
      ]
     },
     "execution_count": 54,
     "metadata": {},
     "output_type": "execute_result"
    }
   ],
   "source": [
    "numerical_colnames = ['quartos', 'suites', 'vagas', 'area_util', 'area_extra']\n",
    "train_set[numerical_colnames].describe()"
   ]
  },
  {
   "cell_type": "markdown",
   "metadata": {},
   "source": [
    "### 3.4 Transformação Variáveis Numéricas Binárias\n",
    "Não se mostrou necessário"
   ]
  },
  {
   "cell_type": "markdown",
   "metadata": {},
   "source": [
    "### 3.5 Analisando Correlação entre Variáveis"
   ]
  },
  {
   "cell_type": "code",
   "execution_count": 55,
   "metadata": {},
   "outputs": [
    {
     "data": {
      "text/plain": [
       "<matplotlib.axes._subplots.AxesSubplot at 0x1c9aa3e0898>"
      ]
     },
     "execution_count": 55,
     "metadata": {},
     "output_type": "execute_result"
    },
    {
     "data": {
      "image/png": "[encoded data removed]",
      "text/plain": [
       "<matplotlib.figure.Figure at 0x1c9aa3e0ac8>"
      ]
     },
     "metadata": {},
     "output_type": "display_data"
    }
   ],
   "source": [
    "corrmat = abs(train_set.drop(['Id'], axis = 1).corr())\n",
    "f, ax = plt.subplots(figsize=(15, 15))\n",
    "sns.heatmap(corrmat, vmax=.8, square=True)"
   ]
  },
  {
   "cell_type": "markdown",
   "metadata": {},
   "source": [
    "Como há muitas variáveis até o momento, filtraremos as variáveis cuja correlação está acima de um threshold determinado. "
   ]
  },
  {
   "cell_type": "code",
   "execution_count": 56,
   "metadata": {},
   "outputs": [],
   "source": [
    "corr = train_set.corr()\n",
    "column_names = []\n",
    "columns = corr.columns\n",
    "corr_thr = 0.7\n",
    "for column in columns:\n",
    "    for row in columns:        \n",
    "        if column != row and np.abs(corr[column][row]) > corr_thr:            \n",
    "            if column not in column_names:\n",
    "                column_names.append(column)\n",
    "            if row not in column_names:\n",
    "                column_names.append(row)\n",
    "#column_names.append('preco')"
   ]
  },
  {
   "cell_type": "code",
   "execution_count": 57,
   "metadata": {},
   "outputs": [
    {
     "data": {
      "image/png": "[encoded data removed]",
      "text/plain": [
       "<matplotlib.figure.Figure at 0x1c9af3624e0>"
      ]
     },
     "metadata": {},
     "output_type": "display_data"
    }
   ],
   "source": [
    "features = column_names\n",
    "fig, ax = plt.subplots(figsize=(12,12))\n",
    "corrmat = abs(train_set[features].corr())\n",
    "cm = abs(np.corrcoef(train_set[features].values.T))\n",
    "hm = sns.heatmap(cm, cbar=True, annot=True, square=True, fmt='.2f', \n",
    "                 annot_kws={'size': 10}, yticklabels=features, \n",
    "                 xticklabels=features)"
   ]
  },
  {
   "cell_type": "markdown",
   "metadata": {},
   "source": [
    "- As variáveis **quartos** e **suites** parecem ter uma alta correlação entre si. No entanto, a variável quartos possui uma maior correlação com a variável preço. Portanto, removeremos a variável **suites**.\n",
    "- As variáveis **estacionamento** e **dif_estacionamento visitantes** estão redundantes\n",
    "- As variáveis **quadra**, **dif_campo_de_futebol** e **dif_quadra_poliesportiva** possuem alta correlação entre si. Como a variável **dif_quadra_poliesportiva** é a que possui a maior correlação com a variável de saída **preço**, ela será mantida.\n",
    "- As variáveis **s_festas** e **dif_salao de festas** são redundantes.\n",
    "- As variáveis **s_jogos** e **dif_salao de jogos** são redundantes.\n",
    "- As variáveis **s_ginastica** e **dif_sala de ginastica** são redundantes.\n",
    "- As variáveis **vista_mar** e **dif_frente para o mar** são redundantes."
   ]
  },
  {
   "cell_type": "code",
   "execution_count": null,
   "metadata": {},
   "outputs": [],
   "source": [
    "# drop_by_correlation = ['dif_estacionamento visitantes', 'dif_quadra poliesportiva', 'dif_salao de festas', 'dif_sala de ginastica', 'dif_frente para o mar']\n",
    "# train_set.drop(drop_by_correlation, axis = 1, inplace = True)\n",
    "# test_set.drop(drop_by_correlation, axis = 1, inplace = True)"
   ]
  },
  {
   "cell_type": "code",
   "execution_count": 58,
   "metadata": {},
   "outputs": [
    {
     "name": "stdout",
     "output_type": "stream",
     "text": [
      "Train shape:  (4186, 39)\n",
      "Test shape:  (2000, 38)\n"
     ]
    }
   ],
   "source": [
    "print ('Train shape: ', train_set.shape)\n",
    "print ('Test shape: ', test_set.shape)"
   ]
  },
  {
   "cell_type": "code",
   "execution_count": 59,
   "metadata": {},
   "outputs": [
    {
     "data": {
      "text/plain": [
       "Index(['tipo', 'area_extra', 's_jogos', 's_ginastica', 'bairro_4', 'bairro_15',\n",
       "       'bairro_16'],\n",
       "      dtype='object')"
      ]
     },
     "execution_count": 59,
     "metadata": {},
     "output_type": "execute_result"
    }
   ],
   "source": [
    "correlation = abs(train_set.corr())\n",
    "correlation = correlation[correlation['preco'] < 0.025]\n",
    "correlation.drop('Id').index"
   ]
  },
  {
   "cell_type": "code",
   "execution_count": 61,
   "metadata": {},
   "outputs": [],
   "source": [
    "train_set.drop(correlation.drop('Id').index, axis = 1, inplace = True)\n",
    "test_set.drop(correlation.drop('Id').index, axis = 1, inplace = True)"
   ]
  },
  {
   "cell_type": "code",
   "execution_count": 62,
   "metadata": {},
   "outputs": [
    {
     "data": {
      "text/html": [
       "<div>\n",
       "<style scoped>\n",
       "    .dataframe tbody tr th:only-of-type {\n",
       "        vertical-align: middle;\n",
       "    }\n",
       "\n",
       "    .dataframe tbody tr th {\n",
       "        vertical-align: top;\n",
       "    }\n",
       "\n",
       "    .dataframe thead th {\n",
       "        text-align: right;\n",
       "    }\n",
       "</style>\n",
       "<table border=\"1\" class=\"dataframe\">\n",
       "  <thead>\n",
       "    <tr style=\"text-align: right;\">\n",
       "      <th></th>\n",
       "      <th>tipo_vendedor</th>\n",
       "      <th>quartos</th>\n",
       "      <th>suites</th>\n",
       "      <th>vagas</th>\n",
       "      <th>area_util</th>\n",
       "      <th>churrasqueira</th>\n",
       "      <th>estacionamento</th>\n",
       "      <th>piscina</th>\n",
       "      <th>playground</th>\n",
       "      <th>quadra</th>\n",
       "      <th>...</th>\n",
       "      <th>bairro_8</th>\n",
       "      <th>bairro_9</th>\n",
       "      <th>bairro_10</th>\n",
       "      <th>bairro_11</th>\n",
       "      <th>bairro_12</th>\n",
       "      <th>bairro_13</th>\n",
       "      <th>bairro_14</th>\n",
       "      <th>bairro_17</th>\n",
       "      <th>bairro_18</th>\n",
       "      <th>bairro_19</th>\n",
       "    </tr>\n",
       "  </thead>\n",
       "  <tbody>\n",
       "    <tr>\n",
       "      <th>count</th>\n",
       "      <td>4186.000000</td>\n",
       "      <td>4186.000000</td>\n",
       "      <td>4186.000000</td>\n",
       "      <td>4186.000000</td>\n",
       "      <td>4186.000000</td>\n",
       "      <td>4186.000000</td>\n",
       "      <td>4186.000000</td>\n",
       "      <td>4186.000000</td>\n",
       "      <td>4186.000000</td>\n",
       "      <td>4186.000000</td>\n",
       "      <td>...</td>\n",
       "      <td>4186.000000</td>\n",
       "      <td>4186.000000</td>\n",
       "      <td>4186.000000</td>\n",
       "      <td>4186.000000</td>\n",
       "      <td>4186.000000</td>\n",
       "      <td>4186.000000</td>\n",
       "      <td>4186.000000</td>\n",
       "      <td>4186.000000</td>\n",
       "      <td>4186.000000</td>\n",
       "      <td>4186.000000</td>\n",
       "    </tr>\n",
       "    <tr>\n",
       "      <th>mean</th>\n",
       "      <td>0.027473</td>\n",
       "      <td>2.916149</td>\n",
       "      <td>1.266364</td>\n",
       "      <td>1.509078</td>\n",
       "      <td>102.214047</td>\n",
       "      <td>0.317009</td>\n",
       "      <td>0.032728</td>\n",
       "      <td>0.557095</td>\n",
       "      <td>0.166985</td>\n",
       "      <td>0.040850</td>\n",
       "      <td>...</td>\n",
       "      <td>0.037506</td>\n",
       "      <td>0.019350</td>\n",
       "      <td>0.036550</td>\n",
       "      <td>0.025800</td>\n",
       "      <td>0.016722</td>\n",
       "      <td>0.012183</td>\n",
       "      <td>0.017439</td>\n",
       "      <td>0.010511</td>\n",
       "      <td>0.009795</td>\n",
       "      <td>0.015767</td>\n",
       "    </tr>\n",
       "    <tr>\n",
       "      <th>std</th>\n",
       "      <td>0.163475</td>\n",
       "      <td>0.771903</td>\n",
       "      <td>0.933385</td>\n",
       "      <td>0.765467</td>\n",
       "      <td>50.497648</td>\n",
       "      <td>0.465367</td>\n",
       "      <td>0.177945</td>\n",
       "      <td>0.496789</td>\n",
       "      <td>0.373007</td>\n",
       "      <td>0.197967</td>\n",
       "      <td>...</td>\n",
       "      <td>0.190021</td>\n",
       "      <td>0.137769</td>\n",
       "      <td>0.187678</td>\n",
       "      <td>0.158558</td>\n",
       "      <td>0.128245</td>\n",
       "      <td>0.109717</td>\n",
       "      <td>0.130916</td>\n",
       "      <td>0.101996</td>\n",
       "      <td>0.098493</td>\n",
       "      <td>0.124587</td>\n",
       "    </tr>\n",
       "    <tr>\n",
       "      <th>min</th>\n",
       "      <td>0.000000</td>\n",
       "      <td>1.000000</td>\n",
       "      <td>0.000000</td>\n",
       "      <td>0.000000</td>\n",
       "      <td>23.000000</td>\n",
       "      <td>0.000000</td>\n",
       "      <td>0.000000</td>\n",
       "      <td>0.000000</td>\n",
       "      <td>0.000000</td>\n",
       "      <td>0.000000</td>\n",
       "      <td>...</td>\n",
       "      <td>0.000000</td>\n",
       "      <td>0.000000</td>\n",
       "      <td>0.000000</td>\n",
       "      <td>0.000000</td>\n",
       "      <td>0.000000</td>\n",
       "      <td>0.000000</td>\n",
       "      <td>0.000000</td>\n",
       "      <td>0.000000</td>\n",
       "      <td>0.000000</td>\n",
       "      <td>0.000000</td>\n",
       "    </tr>\n",
       "    <tr>\n",
       "      <th>25%</th>\n",
       "      <td>0.000000</td>\n",
       "      <td>2.000000</td>\n",
       "      <td>1.000000</td>\n",
       "      <td>1.000000</td>\n",
       "      <td>65.000000</td>\n",
       "      <td>0.000000</td>\n",
       "      <td>0.000000</td>\n",
       "      <td>0.000000</td>\n",
       "      <td>0.000000</td>\n",
       "      <td>0.000000</td>\n",
       "      <td>...</td>\n",
       "      <td>0.000000</td>\n",
       "      <td>0.000000</td>\n",
       "      <td>0.000000</td>\n",
       "      <td>0.000000</td>\n",
       "      <td>0.000000</td>\n",
       "      <td>0.000000</td>\n",
       "      <td>0.000000</td>\n",
       "      <td>0.000000</td>\n",
       "      <td>0.000000</td>\n",
       "      <td>0.000000</td>\n",
       "    </tr>\n",
       "    <tr>\n",
       "      <th>50%</th>\n",
       "      <td>0.000000</td>\n",
       "      <td>3.000000</td>\n",
       "      <td>1.000000</td>\n",
       "      <td>1.000000</td>\n",
       "      <td>89.000000</td>\n",
       "      <td>0.000000</td>\n",
       "      <td>0.000000</td>\n",
       "      <td>1.000000</td>\n",
       "      <td>0.000000</td>\n",
       "      <td>0.000000</td>\n",
       "      <td>...</td>\n",
       "      <td>0.000000</td>\n",
       "      <td>0.000000</td>\n",
       "      <td>0.000000</td>\n",
       "      <td>0.000000</td>\n",
       "      <td>0.000000</td>\n",
       "      <td>0.000000</td>\n",
       "      <td>0.000000</td>\n",
       "      <td>0.000000</td>\n",
       "      <td>0.000000</td>\n",
       "      <td>0.000000</td>\n",
       "    </tr>\n",
       "    <tr>\n",
       "      <th>75%</th>\n",
       "      <td>0.000000</td>\n",
       "      <td>3.000000</td>\n",
       "      <td>1.000000</td>\n",
       "      <td>2.000000</td>\n",
       "      <td>128.000000</td>\n",
       "      <td>1.000000</td>\n",
       "      <td>0.000000</td>\n",
       "      <td>1.000000</td>\n",
       "      <td>0.000000</td>\n",
       "      <td>0.000000</td>\n",
       "      <td>...</td>\n",
       "      <td>0.000000</td>\n",
       "      <td>0.000000</td>\n",
       "      <td>0.000000</td>\n",
       "      <td>0.000000</td>\n",
       "      <td>0.000000</td>\n",
       "      <td>0.000000</td>\n",
       "      <td>0.000000</td>\n",
       "      <td>0.000000</td>\n",
       "      <td>0.000000</td>\n",
       "      <td>0.000000</td>\n",
       "    </tr>\n",
       "    <tr>\n",
       "      <th>max</th>\n",
       "      <td>1.000000</td>\n",
       "      <td>4.000000</td>\n",
       "      <td>4.000000</td>\n",
       "      <td>4.000000</td>\n",
       "      <td>388.000000</td>\n",
       "      <td>1.000000</td>\n",
       "      <td>1.000000</td>\n",
       "      <td>1.000000</td>\n",
       "      <td>1.000000</td>\n",
       "      <td>1.000000</td>\n",
       "      <td>...</td>\n",
       "      <td>1.000000</td>\n",
       "      <td>1.000000</td>\n",
       "      <td>1.000000</td>\n",
       "      <td>1.000000</td>\n",
       "      <td>1.000000</td>\n",
       "      <td>1.000000</td>\n",
       "      <td>1.000000</td>\n",
       "      <td>1.000000</td>\n",
       "      <td>1.000000</td>\n",
       "      <td>1.000000</td>\n",
       "    </tr>\n",
       "  </tbody>\n",
       "</table>\n",
       "<p>8 rows × 31 columns</p>\n",
       "</div>"
      ],
      "text/plain": [
       "       tipo_vendedor      quartos       suites        vagas    area_util  \\\n",
       "count    4186.000000  4186.000000  4186.000000  4186.000000  4186.000000   \n",
       "mean        0.027473     2.916149     1.266364     1.509078   102.214047   \n",
       "std         0.163475     0.771903     0.933385     0.765467    50.497648   \n",
       "min         0.000000     1.000000     0.000000     0.000000    23.000000   \n",
       "25%         0.000000     2.000000     1.000000     1.000000    65.000000   \n",
       "50%         0.000000     3.000000     1.000000     1.000000    89.000000   \n",
       "75%         0.000000     3.000000     1.000000     2.000000   128.000000   \n",
       "max         1.000000     4.000000     4.000000     4.000000   388.000000   \n",
       "\n",
       "       churrasqueira  estacionamento      piscina   playground       quadra  \\\n",
       "count    4186.000000     4186.000000  4186.000000  4186.000000  4186.000000   \n",
       "mean        0.317009        0.032728     0.557095     0.166985     0.040850   \n",
       "std         0.465367        0.177945     0.496789     0.373007     0.197967   \n",
       "min         0.000000        0.000000     0.000000     0.000000     0.000000   \n",
       "25%         0.000000        0.000000     0.000000     0.000000     0.000000   \n",
       "50%         0.000000        0.000000     1.000000     0.000000     0.000000   \n",
       "75%         1.000000        0.000000     1.000000     0.000000     0.000000   \n",
       "max         1.000000        1.000000     1.000000     1.000000     1.000000   \n",
       "\n",
       "          ...          bairro_8     bairro_9    bairro_10    bairro_11  \\\n",
       "count     ...       4186.000000  4186.000000  4186.000000  4186.000000   \n",
       "mean      ...          0.037506     0.019350     0.036550     0.025800   \n",
       "std       ...          0.190021     0.137769     0.187678     0.158558   \n",
       "min       ...          0.000000     0.000000     0.000000     0.000000   \n",
       "25%       ...          0.000000     0.000000     0.000000     0.000000   \n",
       "50%       ...          0.000000     0.000000     0.000000     0.000000   \n",
       "75%       ...          0.000000     0.000000     0.000000     0.000000   \n",
       "max       ...          1.000000     1.000000     1.000000     1.000000   \n",
       "\n",
       "         bairro_12    bairro_13    bairro_14    bairro_17    bairro_18  \\\n",
       "count  4186.000000  4186.000000  4186.000000  4186.000000  4186.000000   \n",
       "mean      0.016722     0.012183     0.017439     0.010511     0.009795   \n",
       "std       0.128245     0.109717     0.130916     0.101996     0.098493   \n",
       "min       0.000000     0.000000     0.000000     0.000000     0.000000   \n",
       "25%       0.000000     0.000000     0.000000     0.000000     0.000000   \n",
       "50%       0.000000     0.000000     0.000000     0.000000     0.000000   \n",
       "75%       0.000000     0.000000     0.000000     0.000000     0.000000   \n",
       "max       1.000000     1.000000     1.000000     1.000000     1.000000   \n",
       "\n",
       "         bairro_19  \n",
       "count  4186.000000  \n",
       "mean      0.015767  \n",
       "std       0.124587  \n",
       "min       0.000000  \n",
       "25%       0.000000  \n",
       "50%       0.000000  \n",
       "75%       0.000000  \n",
       "max       1.000000  \n",
       "\n",
       "[8 rows x 31 columns]"
      ]
     },
     "execution_count": 62,
     "metadata": {},
     "output_type": "execute_result"
    }
   ],
   "source": [
    "train_set.drop(['Id'], axis = 1).describe()"
   ]
  },
  {
   "cell_type": "markdown",
   "metadata": {},
   "source": [
    "##  4. Treinamento dos Modelos"
   ]
  },
  {
   "cell_type": "code",
   "execution_count": 63,
   "metadata": {},
   "outputs": [],
   "source": [
    "train_feat = train_set.drop(['preco', 'Id'], axis = 1).reset_index(drop = True)\n",
    "test_feat = test_set.drop(['Id'], axis = 1).reset_index(drop = True)\n",
    "target = train_set['preco'].reset_index(drop = True)"
   ]
  },
  {
   "cell_type": "code",
   "execution_count": 64,
   "metadata": {},
   "outputs": [],
   "source": [
    "from sklearn.preprocessing import RobustScaler\n",
    "from sklearn.metrics import mean_squared_error\n",
    "from sklearn.model_selection import KFold, cross_val_score, train_test_split\n",
    "from sklearn.pipeline import make_pipeline\n",
    "from sklearn.metrics import make_scorer\n",
    "from sklearn.model_selection import KFold"
   ]
  },
  {
   "cell_type": "code",
   "execution_count": 65,
   "metadata": {},
   "outputs": [],
   "source": [
    "x_scaler = RobustScaler()\n",
    "y_scaler = RobustScaler()\n",
    "\n",
    "x = x_scaler.fit_transform(train_feat)\n",
    "x_test = x_scaler.transform(test_feat)\n",
    "y = y_scaler.fit_transform(target.values.reshape(-1, 1))\n",
    "\n",
    "x_train, x_val, y_train, y_val = train_test_split(x, y, test_size = 0.25)\n",
    "\n",
    "results = pd.DataFrame([], columns = ['mean', 'std'])\n",
    "seed = 7\n",
    "model_predictions = pd.DataFrame()\n",
    "model_predictions_test = pd.DataFrame()"
   ]
  },
  {
   "cell_type": "code",
   "execution_count": 66,
   "metadata": {},
   "outputs": [
    {
     "name": "stdout",
     "output_type": "stream",
     "text": [
      "Wall time: 0 ns\n"
     ]
    }
   ],
   "source": [
    "%%time\n",
    "n_folds = 10\n",
    "\n",
    "def rmspe(y, y_pred):\n",
    "    n = len(y_pred)\n",
    "    perc_sqr = ((y_pred-y)/y)**2\n",
    "    sum_perc = np.sum(perc_sqr)\n",
    "    return np.sqrt( 1/n * sum_perc)\n",
    "\n",
    "scorer_rmspe = make_scorer(rmspe)\n",
    "\n",
    "def rmspe_cv(model, features, target, n_folds = 1):\n",
    "    kf = KFold(n_folds, shuffle=True).get_n_splits(features.values)\n",
    "    rmse= cross_val_score(model, features.values, target, scoring=scorer_rmspe, cv = kf)\n",
    "    return (rmse)\n"
   ]
  },
  {
   "cell_type": "markdown",
   "metadata": {},
   "source": [
    "### Linear Regression"
   ]
  },
  {
   "cell_type": "code",
   "execution_count": 67,
   "metadata": {},
   "outputs": [
    {
     "name": "stdout",
     "output_type": "stream",
     "text": [
      "RMSPE: 0.016822\n",
      "RMSPE: 0.018463\n",
      "RMSPE: 0.017842\n",
      "RMSPE: 0.017412\n",
      "RMSPE: 0.018202\n",
      "RMSPE: 0.018497\n",
      "RMSPE: 0.018273\n",
      "RMSPE: 0.045688\n",
      "RMSPE: 0.016519\n",
      "RMSPE: 0.018050\n",
      "0.017787 (+/- 0.000677)\n",
      "Wall time: 60.8 ms\n"
     ]
    }
   ],
   "source": [
    "%%time\n",
    "from sklearn.linear_model import LinearRegression\n",
    "\n",
    "# fix random seed for reproducibility\n",
    "np.random.seed(seed)\n",
    "\n",
    "# define 10-fold cross validation test harness\n",
    "kfold = KFold(n_splits=n_folds, shuffle=True, random_state=seed)\n",
    "best_score = 999\n",
    "best_model = None\n",
    "cvscores = []\n",
    "for train, val in kfold.split(train_feat, target):\n",
    "    # create model\n",
    "    model = LinearRegression()\n",
    "    \n",
    "    # Fit the model    \n",
    "    model.fit(train_feat.iloc[train], target.values[train])\n",
    "    \n",
    "    # evaluate the model    \n",
    "    predictions = model.predict(train_feat.iloc[val]).ravel()\n",
    "    rmspe_fold_score = rmspe(target.values[val], predictions)\n",
    "    \n",
    "    print(\"%s: %.6f\" % ('RMSPE', rmspe_fold_score))\n",
    "    cvscores.append(rmspe_fold_score)\n",
    "    \n",
    "    if rmspe_fold_score < best_score:\n",
    "        best_score = rmspe_fold_score\n",
    "        best_model = model\n",
    "    \n",
    "cvscores.remove(max(cvscores))\n",
    "print(\"%.6f (+/- %.6f)\" % (np.mean(cvscores), np.std(cvscores)))\n",
    "results.loc['LinReg'] = [np.mean(cvscores), np.std(cvscores)]"
   ]
  },
  {
   "cell_type": "code",
   "execution_count": 68,
   "metadata": {},
   "outputs": [],
   "source": [
    "model_predictions['LinReg'] = best_model.predict(train_feat).ravel()\n",
    "model_predictions_test['LinReg'] = best_model.predict(test_feat).ravel()"
   ]
  },
  {
   "cell_type": "markdown",
   "metadata": {},
   "source": [
    "### Lasso Regression"
   ]
  },
  {
   "cell_type": "code",
   "execution_count": 69,
   "metadata": {},
   "outputs": [
    {
     "name": "stdout",
     "output_type": "stream",
     "text": [
      "RMSPE: 0.016903\n",
      "RMSPE: 0.018489\n",
      "RMSPE: 0.017873\n",
      "RMSPE: 0.017527\n",
      "RMSPE: 0.018119\n",
      "RMSPE: 0.018507\n",
      "RMSPE: 0.018219\n",
      "RMSPE: 0.045704\n",
      "RMSPE: 0.016581\n",
      "RMSPE: 0.018228\n",
      "0.017827 (+/- 0.000650)\n",
      "Wall time: 44.9 ms\n"
     ]
    }
   ],
   "source": [
    "%%time\n",
    "from sklearn.linear_model import Lasso\n",
    "\n",
    "# fix random seed for reproducibility\n",
    "np.random.seed(seed)\n",
    "\n",
    "# define 10-fold cross validation test harness\n",
    "kfold = KFold(n_splits=n_folds, shuffle=True, random_state=seed)\n",
    "best_score = 999\n",
    "best_model = None\n",
    "cvscores = []\n",
    "for train, val in kfold.split(train_feat, target):\n",
    "    # create model\n",
    "    model = Lasso(alpha =0.0005)\n",
    "    \n",
    "    # Fit the model    \n",
    "    model.fit(train_feat.iloc[train], target.values[train])\n",
    "    \n",
    "    # evaluate the model    \n",
    "    predictions = model.predict(train_feat.iloc[val]).ravel()\n",
    "    rmspe_fold_score = rmspe(target.values[val], predictions)\n",
    "    \n",
    "    print(\"%s: %.6f\" % ('RMSPE', rmspe_fold_score))\n",
    "    cvscores.append(rmspe_fold_score)\n",
    "    \n",
    "    if rmspe_fold_score < best_score:\n",
    "        best_score = rmspe_fold_score\n",
    "        best_model = model \n",
    "    \n",
    "cvscores.remove(max(cvscores))\n",
    "print(\"%.6f (+/- %.6f)\" % (np.mean(cvscores), np.std(cvscores)))\n",
    "results.loc['lasso'] = [np.mean(cvscores), np.std(cvscores)]"
   ]
  },
  {
   "cell_type": "code",
   "execution_count": 70,
   "metadata": {},
   "outputs": [
    {
     "name": "stdout",
     "output_type": "stream",
     "text": [
      "Wall time: 2 ms\n"
     ]
    }
   ],
   "source": [
    "%%time\n",
    "model_predictions['lasso'] = best_model.predict(train_feat).ravel()\n",
    "model_predictions_test['lasso'] = best_model.predict(test_feat).ravel()"
   ]
  },
  {
   "cell_type": "markdown",
   "metadata": {},
   "source": [
    "### Passive Agressive Regression\n",
    "Dependente da inicialização"
   ]
  },
  {
   "cell_type": "code",
   "execution_count": 71,
   "metadata": {},
   "outputs": [
    {
     "name": "stdout",
     "output_type": "stream",
     "text": [
      "RMSPE: 0.187795\n",
      "RMSPE: 0.140721\n",
      "RMSPE: 0.176834\n",
      "RMSPE: 0.206141\n",
      "RMSPE: 0.165720\n",
      "RMSPE: 0.319591\n",
      "RMSPE: 0.188789\n",
      "RMSPE: 0.140301\n",
      "RMSPE: 0.168457\n",
      "RMSPE: 0.150855\n",
      "0.169512 (+/- 0.021466)\n",
      "Wall time: 44.9 ms\n"
     ]
    }
   ],
   "source": [
    "%%time\n",
    "from sklearn.linear_model import PassiveAggressiveRegressor\n",
    "\n",
    "# fix random seed for reproducibility\n",
    "np.random.seed(seed)\n",
    "\n",
    "# define 10-fold cross validation test harness\n",
    "kfold = KFold(n_splits=n_folds, shuffle=True, random_state=seed)\n",
    "best_score = 999\n",
    "best_model = None\n",
    "cvscores = []\n",
    "for train, val in kfold.split(train_feat, target):\n",
    "    # create model\n",
    "    model = PassiveAggressiveRegressor(C = 1.0, max_iter = 5, tol = None)\n",
    "    \n",
    "    # Fit the model    \n",
    "    model.fit(train_feat.iloc[train], target.values[train])\n",
    "    \n",
    "    # evaluate the model    \n",
    "    predictions = model.predict(train_feat.iloc[val]).ravel()\n",
    "    rmspe_fold_score = rmspe(target.values[val], predictions)\n",
    "    \n",
    "    print(\"%s: %.6f\" % ('RMSPE', rmspe_fold_score))\n",
    "    cvscores.append(rmspe_fold_score)\n",
    "    \n",
    "    if rmspe_fold_score < best_score:\n",
    "        best_score = rmspe_fold_score\n",
    "        best_model = model\n",
    "    \n",
    "cvscores.remove(max(cvscores))\n",
    "print(\"%.6f (+/- %.6f)\" % (np.mean(cvscores), np.std(cvscores)))\n",
    "results.loc['PassiveAgressive'] = [np.mean(cvscores), np.std(cvscores)]"
   ]
  },
  {
   "cell_type": "code",
   "execution_count": 72,
   "metadata": {},
   "outputs": [
    {
     "name": "stdout",
     "output_type": "stream",
     "text": [
      "Wall time: 1.99 ms\n"
     ]
    }
   ],
   "source": [
    "%%time\n",
    "model_predictions['PassiveAgressive'] = best_model.predict(train_feat).ravel()\n",
    "model_predictions_test['PassiveAgressive'] = best_model.predict(test_feat).ravel()"
   ]
  },
  {
   "cell_type": "markdown",
   "metadata": {},
   "source": [
    "### Elastic Net"
   ]
  },
  {
   "cell_type": "code",
   "execution_count": 73,
   "metadata": {},
   "outputs": [
    {
     "name": "stdout",
     "output_type": "stream",
     "text": [
      "RMSPE: 0.016893\n",
      "RMSPE: 0.018483\n",
      "RMSPE: 0.017867\n",
      "RMSPE: 0.017516\n",
      "RMSPE: 0.018122\n",
      "RMSPE: 0.018504\n",
      "RMSPE: 0.018220\n",
      "RMSPE: 0.045702\n",
      "RMSPE: 0.016573\n",
      "RMSPE: 0.018209\n",
      "0.017821 (+/- 0.000652)\n",
      "Wall time: 47.9 ms\n"
     ]
    }
   ],
   "source": [
    "%%time\n",
    "from sklearn.linear_model import ElasticNet\n",
    "\n",
    "# fix random seed for reproducibility\n",
    "np.random.seed(seed)\n",
    "\n",
    "# define 10-fold cross validation test harness\n",
    "kfold = KFold(n_splits=n_folds, shuffle=True, random_state=seed)\n",
    "best_score = 999\n",
    "best_model = None\n",
    "cvscores = []\n",
    "for train, val in kfold.split(train_feat, target):\n",
    "    # create model\n",
    "    model = ElasticNet(alpha=0.0005, l1_ratio=.9)\n",
    "    \n",
    "    # Fit the model    \n",
    "    model.fit(train_feat.iloc[train], target.values[train])\n",
    "    \n",
    "    # evaluate the model    \n",
    "    predictions = model.predict(train_feat.iloc[val]).ravel()\n",
    "    rmspe_fold_score = rmspe(target.values[val], predictions)\n",
    "    \n",
    "    print(\"%s: %.6f\" % ('RMSPE', rmspe_fold_score))\n",
    "    cvscores.append(rmspe_fold_score)\n",
    "    \n",
    "    if rmspe_fold_score < best_score:\n",
    "        best_score = rmspe_fold_score\n",
    "        best_model = model \n",
    "    \n",
    "cvscores.remove(max(cvscores))\n",
    "print(\"%.6f (+/- %.6f)\" % (np.mean(cvscores), np.std(cvscores)))\n",
    "results.loc['ElasticNet'] = [np.mean(cvscores), np.std(cvscores)]"
   ]
  },
  {
   "cell_type": "code",
   "execution_count": 74,
   "metadata": {},
   "outputs": [
    {
     "name": "stdout",
     "output_type": "stream",
     "text": [
      "Wall time: 1.99 ms\n"
     ]
    }
   ],
   "source": [
    "%%time\n",
    "model_predictions['ElasticNet'] = best_model.predict(train_feat).ravel()\n",
    "model_predictions_test['ElasticNet'] = best_model.predict(test_feat).ravel()"
   ]
  },
  {
   "cell_type": "markdown",
   "metadata": {},
   "source": [
    "### Kernel Ridge Regression"
   ]
  },
  {
   "cell_type": "code",
   "execution_count": 75,
   "metadata": {},
   "outputs": [
    {
     "name": "stdout",
     "output_type": "stream",
     "text": [
      "RMSPE: 0.015552\n",
      "RMSPE: 0.017823\n",
      "RMSPE: 0.016672\n",
      "RMSPE: 0.016595\n",
      "RMSPE: 0.017703\n",
      "RMSPE: 0.016649\n",
      "RMSPE: 0.017129\n",
      "RMSPE: 0.044197\n",
      "RMSPE: 0.015315\n",
      "RMSPE: 0.016926\n",
      "0.016707 (+/- 0.000800)\n",
      "Wall time: 6.23 s\n"
     ]
    }
   ],
   "source": [
    "%%time\n",
    "from sklearn.kernel_ridge import KernelRidge\n",
    "\n",
    "# fix random seed for reproducibility\n",
    "np.random.seed(seed)\n",
    "\n",
    "# define 10-fold cross validation test harness\n",
    "kfold = KFold(n_splits=n_folds, shuffle=True, random_state=seed)\n",
    "best_score = 999\n",
    "best_model = None\n",
    "cvscores = []\n",
    "for train, val in kfold.split(train_feat, target):\n",
    "    # create model\n",
    "    model = KernelRidge(alpha=0.6, kernel='polynomial', degree=2, coef0=2.5)\n",
    "    \n",
    "    # Fit the model    \n",
    "    model.fit(train_feat.iloc[train], target.values[train])\n",
    "    \n",
    "    # evaluate the model    \n",
    "    predictions = model.predict(train_feat.iloc[val]).ravel()\n",
    "    rmspe_fold_score = rmspe(target.values[val], predictions)\n",
    "    \n",
    "    print(\"%s: %.6f\" % ('RMSPE', rmspe_fold_score))\n",
    "    cvscores.append(rmspe_fold_score)\n",
    "    \n",
    "    if rmspe_fold_score < best_score:\n",
    "        best_score = rmspe_fold_score\n",
    "        best_model = model \n",
    "    \n",
    "cvscores.remove(max(cvscores))\n",
    "print(\"%.6f (+/- %.6f)\" % (np.mean(cvscores), np.std(cvscores)))\n",
    "results.loc['KRR'] = [np.mean(cvscores), np.std(cvscores)]"
   ]
  },
  {
   "cell_type": "code",
   "execution_count": 76,
   "metadata": {},
   "outputs": [
    {
     "name": "stdout",
     "output_type": "stream",
     "text": [
      "Wall time: 187 ms\n"
     ]
    }
   ],
   "source": [
    "%%time\n",
    "model_predictions['KRR'] = model.predict(train_feat).ravel()\n",
    "model_predictions_test['KRR'] = model.predict(test_feat).ravel()"
   ]
  },
  {
   "cell_type": "markdown",
   "metadata": {},
   "source": [
    "### Gradient Boost"
   ]
  },
  {
   "cell_type": "code",
   "execution_count": 77,
   "metadata": {},
   "outputs": [
    {
     "name": "stdout",
     "output_type": "stream",
     "text": [
      "RMSPE: 0.014218\n",
      "RMSPE: 0.016160\n",
      "RMSPE: 0.015162\n",
      "RMSPE: 0.015909\n",
      "RMSPE: 0.016344\n",
      "RMSPE: 0.015257\n",
      "RMSPE: 0.016104\n",
      "RMSPE: 0.043759\n",
      "RMSPE: 0.014232\n",
      "RMSPE: 0.016108\n",
      "0.015499 (+/- 0.000780)\n",
      "Wall time: 1min 5s\n"
     ]
    }
   ],
   "source": [
    "%%time\n",
    "from sklearn.ensemble import GradientBoostingRegressor\n",
    "\n",
    "# fix random seed for reproducibility\n",
    "np.random.seed(seed)\n",
    "\n",
    "# define 10-fold cross validation test harness\n",
    "kfold = KFold(n_splits=n_folds, shuffle=True, random_state=seed)\n",
    "best_score = 999\n",
    "best_model = None\n",
    "cvscores = []\n",
    "for train, val in kfold.split(train_feat, target):\n",
    "    # create model\n",
    "    model = GradientBoostingRegressor(n_estimators=3000, learning_rate=0.05,\n",
    "                                   max_depth=4, max_features='sqrt',\n",
    "                                   min_samples_leaf=15, min_samples_split=10, \n",
    "                                   loss='huber')\n",
    "    \n",
    "    # Fit the model    \n",
    "    model.fit(train_feat.iloc[train], target.values[train])\n",
    "    \n",
    "    # evaluate the model    \n",
    "    predictions = model.predict(train_feat.iloc[val]).ravel()\n",
    "    rmspe_fold_score = rmspe(target.values[val], predictions)\n",
    "    \n",
    "    print(\"%s: %.6f\" % ('RMSPE', rmspe_fold_score))\n",
    "    cvscores.append(rmspe_fold_score)\n",
    "    \n",
    "    if rmspe_fold_score < best_score:\n",
    "        best_score = rmspe_fold_score\n",
    "        best_model = model \n",
    "    \n",
    "cvscores.remove(max(cvscores))\n",
    "print(\"%.6f (+/- %.6f)\" % (np.mean(cvscores), np.std(cvscores)))\n",
    "results.loc['GBR'] = [np.mean(cvscores), np.std(cvscores)]"
   ]
  },
  {
   "cell_type": "code",
   "execution_count": 78,
   "metadata": {},
   "outputs": [
    {
     "name": "stdout",
     "output_type": "stream",
     "text": [
      "Wall time: 268 ms\n"
     ]
    }
   ],
   "source": [
    "%%time\n",
    "model_predictions['GBR'] = best_model.predict(train_feat).ravel()\n",
    "model_predictions_test['GBR'] = best_model.predict(test_feat).ravel()"
   ]
  },
  {
   "cell_type": "markdown",
   "metadata": {},
   "source": [
    "### LGBoost"
   ]
  },
  {
   "cell_type": "code",
   "execution_count": 81,
   "metadata": {},
   "outputs": [
    {
     "name": "stdout",
     "output_type": "stream",
     "text": [
      "RMSPE: 0.014730\n",
      "RMSPE: 0.016099\n",
      "RMSPE: 0.016146\n",
      "RMSPE: 0.016062\n",
      "RMSPE: 0.016912\n",
      "RMSPE: 0.016342\n",
      "RMSPE: 0.017027\n",
      "RMSPE: 0.044193\n",
      "RMSPE: 0.014558\n",
      "RMSPE: 0.016485\n",
      "0.016040 (+/- 0.000813)\n",
      "Wall time: 1.64 s\n"
     ]
    }
   ],
   "source": [
    "%%time\n",
    "import lightgbm as lgb\n",
    "\n",
    "# fix random seed for reproducibility\n",
    "np.random.seed(seed)\n",
    "\n",
    "# define 10-fold cross validation test harness\n",
    "kfold = KFold(n_splits=n_folds, shuffle=True, random_state=seed)\n",
    "best_score = 999\n",
    "best_model = None\n",
    "cvscores = []\n",
    "for train, val in kfold.split(train_feat, target):\n",
    "    # create model\n",
    "    model = lgb.LGBMRegressor(objective='regression',num_leaves=5,\n",
    "                              learning_rate=0.05, n_estimators=720,\n",
    "                              max_bin = 55, bagging_fraction = 0.8,\n",
    "                              bagging_freq = 5, feature_fraction = 0.2319,\n",
    "                              feature_fraction_seed=9, bagging_seed=9,\n",
    "                              min_data_in_leaf =6, min_sum_hessian_in_leaf = 11)\n",
    "\n",
    "    \n",
    "    # Fit the model    \n",
    "    model.fit(train_feat.iloc[train], target.values[train])\n",
    "    \n",
    "    # evaluate the model    \n",
    "    predictions = model.predict(train_feat.iloc[val]).ravel()\n",
    "    rmspe_fold_score = rmspe(target.values[val], predictions)\n",
    "    \n",
    "    print(\"%s: %.6f\" % ('RMSPE', rmspe_fold_score))\n",
    "    cvscores.append(rmspe_fold_score)\n",
    "    \n",
    "    if rmspe_fold_score < best_score:\n",
    "        best_score = rmspe_fold_score\n",
    "        best_model = model \n",
    "    \n",
    "cvscores.remove(max(cvscores))\n",
    "print(\"%.6f (+/- %.6f)\" % (np.mean(cvscores), np.std(cvscores)))\n",
    "results.loc['LGB'] = [np.mean(cvscores), np.std(cvscores)]"
   ]
  },
  {
   "cell_type": "code",
   "execution_count": 82,
   "metadata": {},
   "outputs": [
    {
     "name": "stdout",
     "output_type": "stream",
     "text": [
      "Wall time: 59.8 ms\n"
     ]
    }
   ],
   "source": [
    "%%time\n",
    "model_predictions['LGB'] = best_model.predict(train_feat).ravel()\n",
    "model_predictions_test['LGB'] = best_model.predict(test_feat).ravel()"
   ]
  },
  {
   "cell_type": "markdown",
   "metadata": {},
   "source": [
    "### Bayesian Ridge"
   ]
  },
  {
   "cell_type": "code",
   "execution_count": 83,
   "metadata": {},
   "outputs": [
    {
     "name": "stdout",
     "output_type": "stream",
     "text": [
      "RMSPE: 0.016837\n",
      "RMSPE: 0.018462\n",
      "RMSPE: 0.017836\n",
      "RMSPE: 0.017463\n",
      "RMSPE: 0.018158\n",
      "RMSPE: 0.018462\n",
      "RMSPE: 0.018245\n",
      "RMSPE: 0.045690\n",
      "RMSPE: 0.016533\n",
      "RMSPE: 0.018121\n",
      "0.017791 (+/- 0.000663)\n",
      "Wall time: 56.8 ms\n"
     ]
    }
   ],
   "source": [
    "%%time\n",
    "from sklearn.linear_model import BayesianRidge\n",
    "\n",
    "# fix random seed for reproducibility\n",
    "np.random.seed(seed)\n",
    "\n",
    "# define 10-fold cross validation test harness\n",
    "kfold = KFold(n_splits=n_folds, shuffle=True, random_state=seed)\n",
    "best_score = 999\n",
    "best_model = None\n",
    "cvscores = []\n",
    "for train, val in kfold.split(train_feat, target):\n",
    "    # create model\n",
    "    model = BayesianRidge()\n",
    "    \n",
    "    # Fit the model    \n",
    "    model.fit(train_feat.iloc[train], target.values[train])\n",
    "    \n",
    "    # evaluate the model    \n",
    "    predictions = model.predict(train_feat.iloc[val]).ravel()\n",
    "    rmspe_fold_score = rmspe(target.values[val], predictions)\n",
    "    \n",
    "    print(\"%s: %.6f\" % ('RMSPE', rmspe_fold_score))\n",
    "    cvscores.append(rmspe_fold_score)\n",
    "    \n",
    "    if rmspe_fold_score < best_score:\n",
    "        best_score = rmspe_fold_score\n",
    "        best_model = model \n",
    "    \n",
    "cvscores.remove(max(cvscores))\n",
    "print(\"%.6f (+/- %.6f)\" % (np.mean(cvscores), np.std(cvscores)))\n",
    "results.loc['BayRidge'] = [np.mean(cvscores), np.std(cvscores)]"
   ]
  },
  {
   "cell_type": "code",
   "execution_count": 84,
   "metadata": {},
   "outputs": [
    {
     "name": "stdout",
     "output_type": "stream",
     "text": [
      "Wall time: 2 ms\n"
     ]
    }
   ],
   "source": [
    "%%time\n",
    "model_predictions['BayRidge'] = best_model.predict(train_feat).ravel()\n",
    "model_predictions_test['BayRidge'] = best_model.predict(test_feat).ravel()"
   ]
  },
  {
   "cell_type": "markdown",
   "metadata": {},
   "source": [
    "### Support Vector Regression"
   ]
  },
  {
   "cell_type": "code",
   "execution_count": 85,
   "metadata": {},
   "outputs": [
    {
     "name": "stdout",
     "output_type": "stream",
     "text": [
      "RMSPE: 0.015752\n",
      "RMSPE: 0.017471\n",
      "RMSPE: 0.016532\n",
      "RMSPE: 0.017682\n",
      "RMSPE: 0.016828\n",
      "RMSPE: 0.016147\n",
      "RMSPE: 0.017143\n",
      "RMSPE: 0.044684\n",
      "RMSPE: 0.015819\n",
      "RMSPE: 0.016898\n",
      "0.016697 (+/- 0.000651)\n",
      "Wall time: 6.8 s\n"
     ]
    }
   ],
   "source": [
    "%%time\n",
    "from sklearn.svm import SVR\n",
    "\n",
    "# fix random seed for reproducibility\n",
    "np.random.seed(seed)\n",
    "\n",
    "# define 10-fold cross validation test harness\n",
    "kfold = KFold(n_splits=n_folds, shuffle=True, random_state=seed)\n",
    "best_score = 999\n",
    "best_model = None\n",
    "cvscores = []\n",
    "for train, val in kfold.split(train_feat, target):\n",
    "    # create model\n",
    "    model = SVR(kernel='rbf', degree=3, gamma='auto', coef0=0.0, \n",
    "          tol=0.001, C=1.0, epsilon=0.1, shrinking=True, \n",
    "          cache_size=200, verbose=False, max_iter=-1)\n",
    "    \n",
    "    # Fit the model    \n",
    "    model.fit(train_feat.iloc[train], target.values[train])\n",
    "    \n",
    "    # evaluate the model    \n",
    "    predictions = model.predict(train_feat.iloc[val]).ravel()\n",
    "    rmspe_fold_score = rmspe(target.values[val], predictions)\n",
    "    \n",
    "    print(\"%s: %.6f\" % ('RMSPE', rmspe_fold_score))\n",
    "    cvscores.append(rmspe_fold_score)\n",
    "    \n",
    "    if rmspe_fold_score < best_score:\n",
    "        best_score = rmspe_fold_score\n",
    "        best_model = model \n",
    "    \n",
    "cvscores.remove(max(cvscores))\n",
    "print(\"%.6f (+/- %.6f)\" % (np.mean(cvscores), np.std(cvscores)))\n",
    "results.loc['BayRidge'] = [np.mean(cvscores), np.std(cvscores)]"
   ]
  },
  {
   "cell_type": "code",
   "execution_count": 86,
   "metadata": {},
   "outputs": [
    {
     "name": "stdout",
     "output_type": "stream",
     "text": [
      "Wall time: 514 ms\n"
     ]
    }
   ],
   "source": [
    "%%time\n",
    "model_predictions['SVR'] = best_model.predict(train_feat).ravel()\n",
    "model_predictions_test['SVR'] = best_model.predict(test_feat).ravel()"
   ]
  },
  {
   "cell_type": "markdown",
   "metadata": {},
   "source": [
    "### Random Forest Regressor"
   ]
  },
  {
   "cell_type": "code",
   "execution_count": 87,
   "metadata": {},
   "outputs": [
    {
     "name": "stdout",
     "output_type": "stream",
     "text": [
      "RMSPE: 0.015641\n",
      "RMSPE: 0.017080\n",
      "RMSPE: 0.016686\n",
      "RMSPE: 0.016567\n",
      "RMSPE: 0.016990\n",
      "RMSPE: 0.017440\n",
      "RMSPE: 0.016828\n",
      "RMSPE: 0.043901\n",
      "RMSPE: 0.014634\n",
      "RMSPE: 0.019348\n",
      "0.016802 (+/- 0.001208)\n",
      "Wall time: 8.22 s\n"
     ]
    }
   ],
   "source": [
    "%%time\n",
    "from sklearn.ensemble import RandomForestRegressor\n",
    "\n",
    "# fix random seed for reproducibility\n",
    "np.random.seed(seed)\n",
    "\n",
    "# define 10-fold cross validation test harness\n",
    "kfold = KFold(n_splits=n_folds, shuffle=True, random_state=seed)\n",
    "best_score = 999\n",
    "best_model = None\n",
    "cvscores = []\n",
    "for train, val in kfold.split(train_feat, target):\n",
    "    # create model\n",
    "    model = RandomForestRegressor(n_estimators = 100)# Fit the model    \n",
    "    \n",
    "    model.fit(train_feat.iloc[train], target.values[train])\n",
    "    \n",
    "    # evaluate the model    \n",
    "    predictions = model.predict(train_feat.iloc[val]).ravel()\n",
    "    rmspe_fold_score = rmspe(target.values[val], predictions)\n",
    "    \n",
    "    print(\"%s: %.6f\" % ('RMSPE', rmspe_fold_score))\n",
    "    cvscores.append(rmspe_fold_score)\n",
    "    \n",
    "    if rmspe_fold_score < best_score:\n",
    "        best_score = rmspe_fold_score\n",
    "        best_model = model \n",
    "    \n",
    "cvscores.remove(max(cvscores))\n",
    "print(\"%.6f (+/- %.6f)\" % (np.mean(cvscores), np.std(cvscores)))\n",
    "results.loc['RandomForest'] = [np.mean(cvscores), np.std(cvscores)]"
   ]
  },
  {
   "cell_type": "code",
   "execution_count": 88,
   "metadata": {},
   "outputs": [
    {
     "name": "stdout",
     "output_type": "stream",
     "text": [
      "Wall time: 86.8 ms\n"
     ]
    }
   ],
   "source": [
    "%%time\n",
    "model_predictions['RandomForest'] = best_model.predict(train_feat).ravel()\n",
    "model_predictions_test['RandomForest'] = best_model.predict(test_feat).ravel()"
   ]
  },
  {
   "cell_type": "code",
   "execution_count": 89,
   "metadata": {},
   "outputs": [
    {
     "data": {
      "text/html": [
       "<div>\n",
       "<style scoped>\n",
       "    .dataframe tbody tr th:only-of-type {\n",
       "        vertical-align: middle;\n",
       "    }\n",
       "\n",
       "    .dataframe tbody tr th {\n",
       "        vertical-align: top;\n",
       "    }\n",
       "\n",
       "    .dataframe thead th {\n",
       "        text-align: right;\n",
       "    }\n",
       "</style>\n",
       "<table border=\"1\" class=\"dataframe\">\n",
       "  <thead>\n",
       "    <tr style=\"text-align: right;\">\n",
       "      <th></th>\n",
       "      <th>mean</th>\n",
       "      <th>std</th>\n",
       "    </tr>\n",
       "  </thead>\n",
       "  <tbody>\n",
       "    <tr>\n",
       "      <th>GBR</th>\n",
       "      <td>0.015499</td>\n",
       "      <td>0.000780</td>\n",
       "    </tr>\n",
       "    <tr>\n",
       "      <th>XGB</th>\n",
       "      <td>0.015891</td>\n",
       "      <td>0.000718</td>\n",
       "    </tr>\n",
       "    <tr>\n",
       "      <th>LGB</th>\n",
       "      <td>0.016040</td>\n",
       "      <td>0.000813</td>\n",
       "    </tr>\n",
       "    <tr>\n",
       "      <th>BayRidge</th>\n",
       "      <td>0.016697</td>\n",
       "      <td>0.000651</td>\n",
       "    </tr>\n",
       "    <tr>\n",
       "      <th>KRR</th>\n",
       "      <td>0.016707</td>\n",
       "      <td>0.000800</td>\n",
       "    </tr>\n",
       "    <tr>\n",
       "      <th>RandomForest</th>\n",
       "      <td>0.016802</td>\n",
       "      <td>0.001208</td>\n",
       "    </tr>\n",
       "    <tr>\n",
       "      <th>LinReg</th>\n",
       "      <td>0.017787</td>\n",
       "      <td>0.000677</td>\n",
       "    </tr>\n",
       "    <tr>\n",
       "      <th>ElasticNet</th>\n",
       "      <td>0.017821</td>\n",
       "      <td>0.000652</td>\n",
       "    </tr>\n",
       "    <tr>\n",
       "      <th>lasso</th>\n",
       "      <td>0.017827</td>\n",
       "      <td>0.000650</td>\n",
       "    </tr>\n",
       "    <tr>\n",
       "      <th>PassiveAgressive</th>\n",
       "      <td>0.169512</td>\n",
       "      <td>0.021466</td>\n",
       "    </tr>\n",
       "  </tbody>\n",
       "</table>\n",
       "</div>"
      ],
      "text/plain": [
       "                      mean       std\n",
       "GBR               0.015499  0.000780\n",
       "XGB               0.015891  0.000718\n",
       "LGB               0.016040  0.000813\n",
       "BayRidge          0.016697  0.000651\n",
       "KRR               0.016707  0.000800\n",
       "RandomForest      0.016802  0.001208\n",
       "LinReg            0.017787  0.000677\n",
       "ElasticNet        0.017821  0.000652\n",
       "lasso             0.017827  0.000650\n",
       "PassiveAgressive  0.169512  0.021466"
      ]
     },
     "execution_count": 89,
     "metadata": {},
     "output_type": "execute_result"
    }
   ],
   "source": [
    "results.sort_values(by = 'mean')"
   ]
  },
  {
   "cell_type": "markdown",
   "metadata": {},
   "source": [
    "### Ensemble"
   ]
  },
  {
   "cell_type": "code",
   "execution_count": 90,
   "metadata": {},
   "outputs": [
    {
     "data": {
      "text/html": [
       "<div>\n",
       "<style scoped>\n",
       "    .dataframe tbody tr th:only-of-type {\n",
       "        vertical-align: middle;\n",
       "    }\n",
       "\n",
       "    .dataframe tbody tr th {\n",
       "        vertical-align: top;\n",
       "    }\n",
       "\n",
       "    .dataframe thead th {\n",
       "        text-align: right;\n",
       "    }\n",
       "</style>\n",
       "<table border=\"1\" class=\"dataframe\">\n",
       "  <thead>\n",
       "    <tr style=\"text-align: right;\">\n",
       "      <th></th>\n",
       "      <th>GBR</th>\n",
       "      <th>XGB</th>\n",
       "      <th>LGB</th>\n",
       "      <th>BayRidge</th>\n",
       "      <th>KRR</th>\n",
       "      <th>RandomForest</th>\n",
       "      <th>LinReg</th>\n",
       "      <th>ElasticNet</th>\n",
       "      <th>lasso</th>\n",
       "      <th>PassiveAgressive</th>\n",
       "    </tr>\n",
       "  </thead>\n",
       "  <tbody>\n",
       "    <tr>\n",
       "      <th>count</th>\n",
       "      <td>4186.000000</td>\n",
       "      <td>4186.000000</td>\n",
       "      <td>4186.000000</td>\n",
       "      <td>4186.000000</td>\n",
       "      <td>4186.000000</td>\n",
       "      <td>4186.000000</td>\n",
       "      <td>4186.000000</td>\n",
       "      <td>4186.000000</td>\n",
       "      <td>4186.000000</td>\n",
       "      <td>4186.000000</td>\n",
       "    </tr>\n",
       "    <tr>\n",
       "      <th>mean</th>\n",
       "      <td>13.112098</td>\n",
       "      <td>13.110216</td>\n",
       "      <td>13.108448</td>\n",
       "      <td>13.108184</td>\n",
       "      <td>13.109285</td>\n",
       "      <td>13.108763</td>\n",
       "      <td>13.108208</td>\n",
       "      <td>13.108199</td>\n",
       "      <td>13.108200</td>\n",
       "      <td>12.739347</td>\n",
       "    </tr>\n",
       "    <tr>\n",
       "      <th>std</th>\n",
       "      <td>0.466884</td>\n",
       "      <td>0.467348</td>\n",
       "      <td>0.457465</td>\n",
       "      <td>0.446125</td>\n",
       "      <td>0.454731</td>\n",
       "      <td>0.481466</td>\n",
       "      <td>0.447191</td>\n",
       "      <td>0.444648</td>\n",
       "      <td>0.444427</td>\n",
       "      <td>2.142216</td>\n",
       "    </tr>\n",
       "    <tr>\n",
       "      <th>min</th>\n",
       "      <td>11.694655</td>\n",
       "      <td>10.673050</td>\n",
       "      <td>11.863260</td>\n",
       "      <td>11.965424</td>\n",
       "      <td>11.757959</td>\n",
       "      <td>8.482362</td>\n",
       "      <td>11.964197</td>\n",
       "      <td>11.966996</td>\n",
       "      <td>11.967272</td>\n",
       "      <td>5.925300</td>\n",
       "    </tr>\n",
       "    <tr>\n",
       "      <th>25%</th>\n",
       "      <td>12.777785</td>\n",
       "      <td>12.777817</td>\n",
       "      <td>12.773136</td>\n",
       "      <td>12.794870</td>\n",
       "      <td>12.781048</td>\n",
       "      <td>12.765920</td>\n",
       "      <td>12.794375</td>\n",
       "      <td>12.797014</td>\n",
       "      <td>12.796843</td>\n",
       "      <td>11.217467</td>\n",
       "    </tr>\n",
       "    <tr>\n",
       "      <th>50%</th>\n",
       "      <td>13.038842</td>\n",
       "      <td>13.044623</td>\n",
       "      <td>13.052292</td>\n",
       "      <td>13.049795</td>\n",
       "      <td>13.065140</td>\n",
       "      <td>13.053805</td>\n",
       "      <td>13.051075</td>\n",
       "      <td>13.049732</td>\n",
       "      <td>13.049628</td>\n",
       "      <td>12.947828</td>\n",
       "    </tr>\n",
       "    <tr>\n",
       "      <th>75%</th>\n",
       "      <td>13.441510</td>\n",
       "      <td>13.453060</td>\n",
       "      <td>13.447771</td>\n",
       "      <td>13.367735</td>\n",
       "      <td>13.432786</td>\n",
       "      <td>13.460043</td>\n",
       "      <td>13.369576</td>\n",
       "      <td>13.364272</td>\n",
       "      <td>13.363446</td>\n",
       "      <td>14.150717</td>\n",
       "    </tr>\n",
       "    <tr>\n",
       "      <th>max</th>\n",
       "      <td>14.187914</td>\n",
       "      <td>14.183028</td>\n",
       "      <td>14.106630</td>\n",
       "      <td>14.559797</td>\n",
       "      <td>14.295394</td>\n",
       "      <td>14.133748</td>\n",
       "      <td>14.558930</td>\n",
       "      <td>14.571160</td>\n",
       "      <td>14.572075</td>\n",
       "      <td>18.808916</td>\n",
       "    </tr>\n",
       "  </tbody>\n",
       "</table>\n",
       "</div>"
      ],
      "text/plain": [
       "               GBR          XGB          LGB     BayRidge          KRR  \\\n",
       "count  4186.000000  4186.000000  4186.000000  4186.000000  4186.000000   \n",
       "mean     13.112098    13.110216    13.108448    13.108184    13.109285   \n",
       "std       0.466884     0.467348     0.457465     0.446125     0.454731   \n",
       "min      11.694655    10.673050    11.863260    11.965424    11.757959   \n",
       "25%      12.777785    12.777817    12.773136    12.794870    12.781048   \n",
       "50%      13.038842    13.044623    13.052292    13.049795    13.065140   \n",
       "75%      13.441510    13.453060    13.447771    13.367735    13.432786   \n",
       "max      14.187914    14.183028    14.106630    14.559797    14.295394   \n",
       "\n",
       "       RandomForest       LinReg   ElasticNet        lasso  PassiveAgressive  \n",
       "count   4186.000000  4186.000000  4186.000000  4186.000000       4186.000000  \n",
       "mean      13.108763    13.108208    13.108199    13.108200         12.739347  \n",
       "std        0.481466     0.447191     0.444648     0.444427          2.142216  \n",
       "min        8.482362    11.964197    11.966996    11.967272          5.925300  \n",
       "25%       12.765920    12.794375    12.797014    12.796843         11.217467  \n",
       "50%       13.053805    13.051075    13.049732    13.049628         12.947828  \n",
       "75%       13.460043    13.369576    13.364272    13.363446         14.150717  \n",
       "max       14.133748    14.558930    14.571160    14.572075         18.808916  "
      ]
     },
     "execution_count": 90,
     "metadata": {},
     "output_type": "execute_result"
    }
   ],
   "source": [
    "model_predictions[results.sort_values(by = 'mean').index].describe()"
   ]
  },
  {
   "cell_type": "code",
   "execution_count": 91,
   "metadata": {},
   "outputs": [
    {
     "data": {
      "image/png": "[encoded data removed]",
      "text/plain": [
       "<matplotlib.figure.Figure at 0x1c9af413d30>"
      ]
     },
     "metadata": {},
     "output_type": "display_data"
    }
   ],
   "source": [
    "fig, ax = plt.subplots(figsize=(12,12))\n",
    "df_corr = model_predictions[results.sort_values(by = 'mean').index]\n",
    "df_corr.reset_index(drop = True, inplace = True)\n",
    "df_corr['preco'] = train_set['preco'].ravel()\n",
    "# df_corr['preco_detran'] = np.expm1(train_set['preco'].ravel())\n",
    "corrmat = abs(df_corr.corr())\n",
    "cm = abs(np.corrcoef(df_corr.values.T))\n",
    "hm = sns.heatmap(cm, cbar=True, annot=True, square=True, fmt='.2f', \n",
    "                 annot_kws={'size': 10}, yticklabels=df_corr.columns, \n",
    "                 xticklabels=df_corr.columns)"
   ]
  },
  {
   "cell_type": "code",
   "execution_count": 92,
   "metadata": {},
   "outputs": [],
   "source": [
    "corr_thr = 0.89\n",
    "model_selection = list(corrmat[corrmat['preco'] > corr_thr].drop(['preco'], axis = 0).index)"
   ]
  },
  {
   "cell_type": "code",
   "execution_count": 109,
   "metadata": {},
   "outputs": [
    {
     "name": "stdout",
     "output_type": "stream",
     "text": [
      "{'XGB'}\n",
      "['GBR', 'XGB', 'LGB', 'KRR', 'RandomForest']\n"
     ]
    },
    {
     "data": {
      "text/plain": [
       "['GBR', 'XGB', 'LGB', 'KRR', 'RandomForest']"
      ]
     },
     "execution_count": 109,
     "metadata": {},
     "output_type": "execute_result"
    }
   ],
   "source": [
    "print (set(model_selection)-set(model_predictions_test.columns))\n",
    "model_drop = set(model_selection)-set(model_predictions_test.columns)\n",
    "print (model_selection)\n",
    "# model_selection.remove('XGB')\n",
    "model_selection"
   ]
  },
  {
   "cell_type": "code",
   "execution_count": 115,
   "metadata": {},
   "outputs": [
    {
     "data": {
      "text/plain": [
       "{'XGB'}"
      ]
     },
     "execution_count": 115,
     "metadata": {},
     "output_type": "execute_result"
    }
   ],
   "source": [
    "model_drop"
   ]
  },
  {
   "cell_type": "code",
   "execution_count": 113,
   "metadata": {},
   "outputs": [],
   "source": [
    "model_selection.remove('XGB')"
   ]
  },
  {
   "cell_type": "code",
   "execution_count": 103,
   "metadata": {},
   "outputs": [],
   "source": [
    "# Droppando eventuais modelos que tem em um conjunto e não tem no outro\n",
    "model_predictions.drop(['XGB'], axis=1, inplace = True)"
   ]
  },
  {
   "cell_type": "code",
   "execution_count": 116,
   "metadata": {},
   "outputs": [],
   "source": [
    "feat_ensemble = model_predictions[model_selection]\n",
    "feat_ensemble_test = model_predictions_test[model_selection]"
   ]
  },
  {
   "cell_type": "code",
   "execution_count": 117,
   "metadata": {},
   "outputs": [],
   "source": [
    "ensemble_predictions = feat_ensemble_test.mean(axis=1)"
   ]
  },
  {
   "cell_type": "markdown",
   "metadata": {},
   "source": [
    "__________"
   ]
  },
  {
   "cell_type": "code",
   "execution_count": 118,
   "metadata": {},
   "outputs": [
    {
     "data": {
      "text/html": [
       "<div>\n",
       "<style scoped>\n",
       "    .dataframe tbody tr th:only-of-type {\n",
       "        vertical-align: middle;\n",
       "    }\n",
       "\n",
       "    .dataframe tbody tr th {\n",
       "        vertical-align: top;\n",
       "    }\n",
       "\n",
       "    .dataframe thead th {\n",
       "        text-align: right;\n",
       "    }\n",
       "</style>\n",
       "<table border=\"1\" class=\"dataframe\">\n",
       "  <thead>\n",
       "    <tr style=\"text-align: right;\">\n",
       "      <th></th>\n",
       "      <th>rmspe</th>\n",
       "    </tr>\n",
       "  </thead>\n",
       "  <tbody>\n",
       "    <tr>\n",
       "      <th>RandomForest</th>\n",
       "      <td>0.114923</td>\n",
       "    </tr>\n",
       "    <tr>\n",
       "      <th>GBR</th>\n",
       "      <td>0.176569</td>\n",
       "    </tr>\n",
       "    <tr>\n",
       "      <th>SVR</th>\n",
       "      <td>0.190834</td>\n",
       "    </tr>\n",
       "    <tr>\n",
       "      <th>LGB</th>\n",
       "      <td>0.210657</td>\n",
       "    </tr>\n",
       "    <tr>\n",
       "      <th>KRR</th>\n",
       "      <td>0.224120</td>\n",
       "    </tr>\n",
       "    <tr>\n",
       "      <th>BayRidge</th>\n",
       "      <td>0.247801</td>\n",
       "    </tr>\n",
       "    <tr>\n",
       "      <th>ElasticNet</th>\n",
       "      <td>0.247843</td>\n",
       "    </tr>\n",
       "    <tr>\n",
       "      <th>lasso</th>\n",
       "      <td>0.247878</td>\n",
       "    </tr>\n",
       "    <tr>\n",
       "      <th>LinReg</th>\n",
       "      <td>0.247937</td>\n",
       "    </tr>\n",
       "    <tr>\n",
       "      <th>PassiveAgressive</th>\n",
       "      <td>29.837965</td>\n",
       "    </tr>\n",
       "  </tbody>\n",
       "</table>\n",
       "</div>"
      ],
      "text/plain": [
       "                      rmspe\n",
       "RandomForest       0.114923\n",
       "GBR                0.176569\n",
       "SVR                0.190834\n",
       "LGB                0.210657\n",
       "KRR                0.224120\n",
       "BayRidge           0.247801\n",
       "ElasticNet         0.247843\n",
       "lasso              0.247878\n",
       "LinReg             0.247937\n",
       "PassiveAgressive  29.837965"
      ]
     },
     "execution_count": 118,
     "metadata": {},
     "output_type": "execute_result"
    }
   ],
   "source": [
    "model_predictions_detransformed_rmspe = pd.DataFrame([], columns = ['rmspe'])\n",
    "model_predictions_detransformed = pd.DataFrame()\n",
    "for model in model_predictions.columns:\n",
    "    model_predictions_detransformed[model] = np.expm1(model_predictions[model].ravel())\n",
    "    model_predictions_detransformed_rmspe.loc[model] = rmspe(model_predictions_detransformed[model], np.expm1(target.ravel()))\n",
    "\n",
    "model_predictions_detransformed['target'] = np.expm1(target.ravel())\n",
    "model_predictions_detransformed_rmspe.sort_values(by = 'rmspe')"
   ]
  },
  {
   "cell_type": "code",
   "execution_count": 119,
   "metadata": {},
   "outputs": [],
   "source": [
    "model_predictions_detransformed_test = pd.DataFrame()\n",
    "for model in model_predictions.columns:\n",
    "    model_predictions_detransformed_test[model] = np.expm1(model_predictions_test[model].ravel())    \n"
   ]
  },
  {
   "cell_type": "code",
   "execution_count": 120,
   "metadata": {},
   "outputs": [],
   "source": [
    "rmse_thr = 4 #0.23\n",
    "model_selection = model_predictions_detransformed_rmspe[model_predictions_detransformed_rmspe['rmspe'] > rmse_thr].axes[0].ravel()\n",
    "feat_ensemble = model_predictions_detransformed.drop(model_selection, axis = 1)\n",
    "feat_ensemble_test = model_predictions_detransformed_test.drop(model_selection, axis = 1)"
   ]
  },
  {
   "cell_type": "code",
   "execution_count": 121,
   "metadata": {},
   "outputs": [
    {
     "name": "stdout",
     "output_type": "stream",
     "text": [
      "<class 'pandas.core.frame.DataFrame'>\n",
      "RangeIndex: 4186 entries, 0 to 4185\n",
      "Data columns (total 10 columns):\n",
      "LinReg          4186 non-null float64\n",
      "lasso           4186 non-null float64\n",
      "ElasticNet      4186 non-null float64\n",
      "KRR             4186 non-null float64\n",
      "GBR             4186 non-null float64\n",
      "LGB             4186 non-null float64\n",
      "BayRidge        4186 non-null float64\n",
      "SVR             4186 non-null float64\n",
      "RandomForest    4186 non-null float64\n",
      "target          4186 non-null float64\n",
      "dtypes: float64(10)\n",
      "memory usage: 327.1 KB\n"
     ]
    }
   ],
   "source": [
    "feat_ensemble.info()"
   ]
  },
  {
   "cell_type": "code",
   "execution_count": 122,
   "metadata": {},
   "outputs": [
    {
     "name": "stdout",
     "output_type": "stream",
     "text": [
      "<class 'pandas.core.frame.DataFrame'>\n",
      "RangeIndex: 2000 entries, 0 to 1999\n",
      "Data columns (total 9 columns):\n",
      "LinReg          2000 non-null float64\n",
      "lasso           2000 non-null float64\n",
      "ElasticNet      2000 non-null float64\n",
      "KRR             2000 non-null float64\n",
      "GBR             2000 non-null float64\n",
      "LGB             2000 non-null float64\n",
      "BayRidge        2000 non-null float64\n",
      "SVR             2000 non-null float64\n",
      "RandomForest    2000 non-null float64\n",
      "dtypes: float64(9)\n",
      "memory usage: 140.7 KB\n"
     ]
    }
   ],
   "source": [
    "feat_ensemble_test.info()"
   ]
  },
  {
   "cell_type": "code",
   "execution_count": 123,
   "metadata": {},
   "outputs": [
    {
     "name": "stdout",
     "output_type": "stream",
     "text": [
      "[ 0.14182223  0.12935514  0.14216115  0.1282877   0.12890112  0.11163941\n",
      "  0.12411112  0.11801991 12.88657466  0.14328154]\n",
      "[1.405415397187675, 3.8270659325601604]\n",
      "Wall time: 16.6 s\n"
     ]
    }
   ],
   "source": [
    "%%time\n",
    "\n",
    "model_ensemble = RandomForestRegressor(n_estimators = 100)\n",
    "\n",
    "score = rmspe_cv(model_ensemble, feat_ensemble.drop(['target'], axis = 1), feat_ensemble['target'].ravel(), n_folds)\n",
    "print (score)\n",
    "print ([score.mean(), score.std()])"
   ]
  },
  {
   "cell_type": "code",
   "execution_count": 124,
   "metadata": {},
   "outputs": [
    {
     "name": "stdout",
     "output_type": "stream",
     "text": [
      "0.10850660191643721\n",
      "0.1102202814289189\n",
      "0.1382203554513633\n",
      "0.10773276802968686\n",
      "0.10880599327049836\n",
      "0.10702475866568187\n",
      "0.115286718459015\n",
      "0.11017695977237103\n",
      "0.22599788408792423\n",
      "0.175440881916784\n",
      "0.130741 (+/- 0.037786)\n",
      "Wall time: 16.4 s\n"
     ]
    }
   ],
   "source": [
    "%%time\n",
    "from sklearn.model_selection import KFold\n",
    "\n",
    "# fix random seed for reproducibility\n",
    "np.random.seed(seed)\n",
    "\n",
    "# define 10-fold cross validation test harness\n",
    "kfold = KFold(n_splits=n_folds, shuffle=True, random_state=seed)\n",
    "cvscores = []\n",
    "best_model_ensemble = None\n",
    "best_score_ensemble = 999\n",
    "metric_index = 0\n",
    "\n",
    "for train, val in kfold.split(train_feat, target):\n",
    "  # create model    \n",
    "    model_ensemble.fit(feat_ensemble.drop(['target'], axis = 1).iloc[train], \n",
    "                       feat_ensemble['target'].ravel()[train])\n",
    "    \n",
    "    # evaluate the model\n",
    "    predictions = model_ensemble.predict(feat_ensemble.drop(['target'], axis = 1).iloc[val])\n",
    "    rmspe_fold = rmspe(predictions, feat_ensemble['target'].ravel()[val])\n",
    "        \n",
    "    cvscores.append(rmspe_fold)\n",
    "    \n",
    "    print (rmspe_fold)\n",
    "    \n",
    "    # Saving best model\n",
    "    if rmspe_fold is not None and rmspe_fold < best_score_ensemble:\n",
    "        best_model_ensemble = model_ensemble\n",
    "        best_score_ensemble = rmspe_fold\n",
    "    \n",
    "#results.loc['Perceptron'] = [np.nanmean(cvscores), np.nanstd(cvscores)]\n",
    "print(\"%.6f (+/- %.6f)\" % (np.nanmean(cvscores), np.nanstd(cvscores)))"
   ]
  },
  {
   "cell_type": "code",
   "execution_count": 125,
   "metadata": {},
   "outputs": [],
   "source": [
    "ensemble_predictions = model_predictions_detransformed_test['RandomForest'].ravel()"
   ]
  },
  {
   "cell_type": "code",
   "execution_count": 126,
   "metadata": {},
   "outputs": [
    {
     "name": "stdout",
     "output_type": "stream",
     "text": [
      "Wall time: 31.9 ms\n"
     ]
    }
   ],
   "source": [
    "%%time\n",
    "ensemble_predictions = best_model_ensemble.predict(feat_ensemble_test).ravel()"
   ]
  },
  {
   "cell_type": "markdown",
   "metadata": {},
   "source": [
    "## 5. Submissão"
   ]
  },
  {
   "cell_type": "code",
   "execution_count": 127,
   "metadata": {},
   "outputs": [],
   "source": [
    "submission = pd.DataFrame()\n",
    "submission['Id'] = test_set['Id']\n",
    "\n",
    "#predictions = ensemble_predictions\n",
    "final_predictions = ensemble_predictions#np.expm1(predictions)# * neighborhood_test/100\n",
    "\n",
    "submission['preco'] = final_predictions\n",
    "\n",
    "submission.to_csv('submission.csv', index=False)"
   ]
  },
  {
   "cell_type": "markdown",
   "metadata": {},
   "source": [
    "_________________"
   ]
  }
 ],
 "metadata": {
  "kernelspec": {
   "display_name": "Python 3",
   "language": "python",
   "name": "python3"
  },
  "language_info": {
   "codemirror_mode": {
    "name": "ipython",
    "version": 3
   },
   "file_extension": ".py",
   "mimetype": "text/x-python",
   "name": "python",
   "nbconvert_exporter": "python",
   "pygments_lexer": "ipython3",
   "version": "3.6.4"
  }
 },
 "nbformat": 4,
 "nbformat_minor": 2
}
